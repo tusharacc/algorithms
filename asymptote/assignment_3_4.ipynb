{
 "cells": [
  {
   "cell_type": "code",
   "execution_count": 1,
   "id": "1c98078c",
   "metadata": {},
   "outputs": [],
   "source": [
    "#Find d in sorted array"
   ]
  },
  {
   "cell_type": "code",
   "execution_count": 23,
   "id": "e7946c6f",
   "metadata": {},
   "outputs": [],
   "source": [
    "import math\n",
    "import random\n",
    "from datetime import datetime"
   ]
  },
  {
   "cell_type": "code",
   "execution_count": 47,
   "id": "a61fa638",
   "metadata": {},
   "outputs": [],
   "source": [
    "NUM_TESTS = 25"
   ]
  },
  {
   "cell_type": "code",
   "execution_count": 8,
   "id": "26febab2",
   "metadata": {},
   "outputs": [],
   "source": [
    "def get_array(number_of_items):\n",
    "    array = []\n",
    "    a = 0\n",
    "    b = a + 10\n",
    "    for i in range(0,number_of_items):\n",
    "        array.append(random.randint(a,b))\n",
    "        a = b+1\n",
    "        b = a + 10\n",
    "    return array"
   ]
  },
  {
   "cell_type": "code",
   "execution_count": 16,
   "id": "f343847b",
   "metadata": {},
   "outputs": [],
   "source": [
    "def get_diff_and_index(array):\n",
    "    lower_index = 0\n",
    "    upper_index = 0\n",
    "    while True:\n",
    "        lower_index = random.randint(0,len(array)-1)\n",
    "        upper_index = random.randint(0,len(array)-1)\n",
    "\n",
    "        if upper_index > lower_index:\n",
    "            break\n",
    "        elif upper_index < lower_index:\n",
    "            lower_index,upper_index = upper_index,lower_index\n",
    "            break\n",
    "\n",
    "    #print (\"upper & lower index\",lower_index,upper_index)\n",
    "    #print (array)\n",
    "    d = array[upper_index] - array[lower_index]\n",
    "\n",
    "    return d, lower_index, upper_index"
   ]
  },
  {
   "cell_type": "code",
   "execution_count": 17,
   "id": "5961c26f",
   "metadata": {},
   "outputs": [],
   "source": [
    "def get_the_index(array,d):\n",
    "    #print (\"Distance\",d)\n",
    "    j = 1\n",
    "    counter = 1\n",
    "    found = False\n",
    "    end_loop = False\n",
    "    for i in range(0,len(array)-1):\n",
    "        counter += 1\n",
    "        if i == j:\n",
    "            j += 1\n",
    "        while True:\n",
    "            counter += 1\n",
    "            if array[j] - array[i] == d:\n",
    "                found = True\n",
    "                break\n",
    "            elif array[j] - array[i] < d:\n",
    "                j += 1\n",
    "                if j > len(array) - 1:\n",
    "                    end_loop = True\n",
    "                    break\n",
    "            elif array[j] - array[i] > d:\n",
    "                break\n",
    "        if end_loop:\n",
    "            break\n",
    "        if found:\n",
    "            break\n",
    "    \n",
    "    #print (\"Counter\", counter)\n",
    "    if found:\n",
    "        return (i,j,counter)\n",
    "    else:\n",
    "        return (0,0,counter)"
   ]
  },
  {
   "cell_type": "code",
   "execution_count": 175,
   "id": "76530a66",
   "metadata": {},
   "outputs": [],
   "source": [
    "def get_the_index2(array,d):\n",
    "    #print (\"Distance\",d)\n",
    "    j = 1\n",
    "    counter = 1\n",
    "    found = False\n",
    "    end_loop = False\n",
    "    i = 0\n",
    "    while j < len(array) and i < len(array):\n",
    "        counter += 1\n",
    "        if i == j:\n",
    "            j += 1\n",
    "        if array[j] - array[i] == d:\n",
    "            found = True\n",
    "            break\n",
    "        elif array[j] - array[i] < d:\n",
    "            j += 1\n",
    "        elif array[j] - array[i] > d:\n",
    "            i += 1\n",
    "    \n",
    "    \n",
    "    #print (\"Counter\", counter)\n",
    "    if found:\n",
    "        return (i,j,counter)\n",
    "    else:\n",
    "        return (0,0,counter)"
   ]
  },
  {
   "cell_type": "code",
   "execution_count": 187,
   "id": "24ee76a7",
   "metadata": {},
   "outputs": [
    {
     "name": "stdout",
     "output_type": "stream",
     "text": [
      "[8, 12, 31, 34, 47, 58, 72, 84, 97, 101]\n",
      "difference 39 0 4\n",
      "final 0 4 5\n"
     ]
    }
   ],
   "source": [
    "n = 10\n",
    "array = get_array(n)\n",
    "print (array)\n",
    "d, lower_index, upper_index = get_diff_and_index(array)\n",
    "print (\"difference\",d, lower_index, upper_index)\n",
    "i,j,counter = get_the_index2(array,d)\n",
    "print (\"final\",i,j,counter)"
   ]
  },
  {
   "cell_type": "code",
   "execution_count": 177,
   "id": "8d2a0363",
   "metadata": {},
   "outputs": [],
   "source": [
    "results = []\n",
    "n = 10\n",
    "N = 1000\n",
    "while n < N:\n",
    "    num_of_tests = 0\n",
    "    execution_times = []\n",
    "    counter_array = []\n",
    "    while num_of_tests < NUM_TESTS:\n",
    "        #print (num_of_tests)\n",
    "        array = get_array(n)\n",
    "        d, lower_index, upper_index = get_diff_and_index(array)\n",
    "        start=datetime.now()\n",
    "        i,j,counter = get_the_index2(array,d)\n",
    "        end=datetime.now()\n",
    "        counter_array.append(counter)\n",
    "        execution_times.append((end-start).microseconds)\n",
    "        #if i == lower_index and j == upper_index:\n",
    "        #    results.append({\"n\": n,\"result\": \"success\", \"counter\": counter, \"message\": \"\"})\n",
    "        #else:\n",
    "        #    results.append({\"n\": n,\"result\": \"failure\", \"counter\": counter, \"message\": f\"expected lower: {lower_index}, expected_upper: {upper_index}, actual lower: {i}, actual upper: {j}\"})\n",
    "        num_of_tests += 1\n",
    "        if num_of_tests >= NUM_TESTS:\n",
    "            results.append({\"array_length\": n,\"execution_time\":np.percentile(execution_times,99),\"90_counter\":  np.percentile(counter_array, 90),\"99_counter\":  np.percentile(counter_array, 99),\"75_counter\":  np.percentile(counter_array, 75)})\n",
    "    n += 1\n",
    "    #print (\"Value of n\",n)\n",
    "\n",
    "#print (results)"
   ]
  },
  {
   "cell_type": "code",
   "execution_count": 153,
   "id": "6e9363f9",
   "metadata": {},
   "outputs": [
    {
     "data": {
      "text/plain": [
       "1000"
      ]
     },
     "execution_count": 153,
     "metadata": {},
     "output_type": "execute_result"
    }
   ],
   "source": [
    "n"
   ]
  },
  {
   "cell_type": "code",
   "execution_count": 178,
   "id": "04b4df51",
   "metadata": {},
   "outputs": [],
   "source": [
    "import pandas as pd\n",
    "import numpy as np\n",
    "import math"
   ]
  },
  {
   "cell_type": "code",
   "execution_count": 179,
   "id": "4d3f7ace",
   "metadata": {},
   "outputs": [],
   "source": [
    "df = pd.DataFrame.from_dict(results)"
   ]
  },
  {
   "cell_type": "code",
   "execution_count": 180,
   "id": "9362d7a7",
   "metadata": {},
   "outputs": [
    {
     "data": {
      "text/html": [
       "<div>\n",
       "<style scoped>\n",
       "    .dataframe tbody tr th:only-of-type {\n",
       "        vertical-align: middle;\n",
       "    }\n",
       "\n",
       "    .dataframe tbody tr th {\n",
       "        vertical-align: top;\n",
       "    }\n",
       "\n",
       "    .dataframe thead th {\n",
       "        text-align: right;\n",
       "    }\n",
       "</style>\n",
       "<table border=\"1\" class=\"dataframe\">\n",
       "  <thead>\n",
       "    <tr style=\"text-align: right;\">\n",
       "      <th></th>\n",
       "      <th>array_length</th>\n",
       "      <th>execution_time</th>\n",
       "      <th>90_counter</th>\n",
       "      <th>99_counter</th>\n",
       "      <th>75_counter</th>\n",
       "    </tr>\n",
       "  </thead>\n",
       "  <tbody>\n",
       "    <tr>\n",
       "      <th>0</th>\n",
       "      <td>10</td>\n",
       "      <td>5.76</td>\n",
       "      <td>14.0</td>\n",
       "      <td>15.00</td>\n",
       "      <td>9.0</td>\n",
       "    </tr>\n",
       "    <tr>\n",
       "      <th>1</th>\n",
       "      <td>11</td>\n",
       "      <td>6.76</td>\n",
       "      <td>15.2</td>\n",
       "      <td>16.76</td>\n",
       "      <td>13.0</td>\n",
       "    </tr>\n",
       "    <tr>\n",
       "      <th>2</th>\n",
       "      <td>12</td>\n",
       "      <td>8.76</td>\n",
       "      <td>15.2</td>\n",
       "      <td>20.28</td>\n",
       "      <td>12.0</td>\n",
       "    </tr>\n",
       "    <tr>\n",
       "      <th>3</th>\n",
       "      <td>13</td>\n",
       "      <td>4.00</td>\n",
       "      <td>16.2</td>\n",
       "      <td>17.76</td>\n",
       "      <td>14.0</td>\n",
       "    </tr>\n",
       "    <tr>\n",
       "      <th>4</th>\n",
       "      <td>14</td>\n",
       "      <td>4.00</td>\n",
       "      <td>17.2</td>\n",
       "      <td>19.76</td>\n",
       "      <td>14.0</td>\n",
       "    </tr>\n",
       "  </tbody>\n",
       "</table>\n",
       "</div>"
      ],
      "text/plain": [
       "   array_length  execution_time  90_counter  99_counter  75_counter\n",
       "0            10            5.76        14.0       15.00         9.0\n",
       "1            11            6.76        15.2       16.76        13.0\n",
       "2            12            8.76        15.2       20.28        12.0\n",
       "3            13            4.00        16.2       17.76        14.0\n",
       "4            14            4.00        17.2       19.76        14.0"
      ]
     },
     "execution_count": 180,
     "metadata": {},
     "output_type": "execute_result"
    }
   ],
   "source": [
    "df.head()"
   ]
  },
  {
   "cell_type": "code",
   "execution_count": 181,
   "id": "0f50ad2e",
   "metadata": {},
   "outputs": [],
   "source": [
    "def return_nlogn(row):\n",
    "    return row[\"array_length\"]*math.log(row[\"array_length\"],2)"
   ]
  },
  {
   "cell_type": "code",
   "execution_count": 182,
   "id": "84b43071",
   "metadata": {},
   "outputs": [],
   "source": [
    "df[\"nlogn\"] = df.apply(lambda row: return_nlogn(row), axis=1)"
   ]
  },
  {
   "cell_type": "code",
   "execution_count": 183,
   "id": "bcc72eba",
   "metadata": {},
   "outputs": [
    {
     "data": {
      "text/html": [
       "<div>\n",
       "<style scoped>\n",
       "    .dataframe tbody tr th:only-of-type {\n",
       "        vertical-align: middle;\n",
       "    }\n",
       "\n",
       "    .dataframe tbody tr th {\n",
       "        vertical-align: top;\n",
       "    }\n",
       "\n",
       "    .dataframe thead th {\n",
       "        text-align: right;\n",
       "    }\n",
       "</style>\n",
       "<table border=\"1\" class=\"dataframe\">\n",
       "  <thead>\n",
       "    <tr style=\"text-align: right;\">\n",
       "      <th></th>\n",
       "      <th>array_length</th>\n",
       "      <th>execution_time</th>\n",
       "      <th>90_counter</th>\n",
       "      <th>99_counter</th>\n",
       "      <th>75_counter</th>\n",
       "      <th>nlogn</th>\n",
       "    </tr>\n",
       "  </thead>\n",
       "  <tbody>\n",
       "    <tr>\n",
       "      <th>0</th>\n",
       "      <td>10</td>\n",
       "      <td>5.76</td>\n",
       "      <td>14.0</td>\n",
       "      <td>15.00</td>\n",
       "      <td>9.0</td>\n",
       "      <td>33.219281</td>\n",
       "    </tr>\n",
       "    <tr>\n",
       "      <th>1</th>\n",
       "      <td>11</td>\n",
       "      <td>6.76</td>\n",
       "      <td>15.2</td>\n",
       "      <td>16.76</td>\n",
       "      <td>13.0</td>\n",
       "      <td>38.053748</td>\n",
       "    </tr>\n",
       "    <tr>\n",
       "      <th>2</th>\n",
       "      <td>12</td>\n",
       "      <td>8.76</td>\n",
       "      <td>15.2</td>\n",
       "      <td>20.28</td>\n",
       "      <td>12.0</td>\n",
       "      <td>43.019550</td>\n",
       "    </tr>\n",
       "    <tr>\n",
       "      <th>3</th>\n",
       "      <td>13</td>\n",
       "      <td>4.00</td>\n",
       "      <td>16.2</td>\n",
       "      <td>17.76</td>\n",
       "      <td>14.0</td>\n",
       "      <td>48.105716</td>\n",
       "    </tr>\n",
       "    <tr>\n",
       "      <th>4</th>\n",
       "      <td>14</td>\n",
       "      <td>4.00</td>\n",
       "      <td>17.2</td>\n",
       "      <td>19.76</td>\n",
       "      <td>14.0</td>\n",
       "      <td>53.302969</td>\n",
       "    </tr>\n",
       "  </tbody>\n",
       "</table>\n",
       "</div>"
      ],
      "text/plain": [
       "   array_length  execution_time  90_counter  99_counter  75_counter      nlogn\n",
       "0            10            5.76        14.0       15.00         9.0  33.219281\n",
       "1            11            6.76        15.2       16.76        13.0  38.053748\n",
       "2            12            8.76        15.2       20.28        12.0  43.019550\n",
       "3            13            4.00        16.2       17.76        14.0  48.105716\n",
       "4            14            4.00        17.2       19.76        14.0  53.302969"
      ]
     },
     "execution_count": 183,
     "metadata": {},
     "output_type": "execute_result"
    }
   ],
   "source": [
    "df.head()"
   ]
  },
  {
   "cell_type": "code",
   "execution_count": 186,
   "id": "436bc8a1",
   "metadata": {},
   "outputs": [
    {
     "data": {
      "text/plain": [
       "<AxesSubplot:>"
      ]
     },
     "execution_count": 186,
     "metadata": {},
     "output_type": "execute_result"
    },
    {
     "data": {
      "image/png": "[encoded data removed]",
      "text/plain": [
       "<Figure size 432x288 with 1 Axes>"
      ]
     },
     "metadata": {
      "needs_background": "light"
     },
     "output_type": "display_data"
    }
   ],
   "source": [
    "df.plot.line()"
   ]
  },
  {
   "cell_type": "code",
   "execution_count": null,
   "id": "775f4fcc",
   "metadata": {},
   "outputs": [],
   "source": [
    "#Locally stable"
   ]
  },
  {
   "cell_type": "code",
   "execution_count": 111,
   "id": "2cac9901",
   "metadata": {},
   "outputs": [],
   "source": [
    "def is_stable(array,i,j,k):\n",
    "    global counter\n",
    "    counter += 1\n",
    "    if array[i] > array[j] and array[j] < array[k]:\n",
    "        return True\n",
    "    elif (array[i] > array[j] and array[j] > array[k]) or (array[i] < array[j] and array[j] > array[k]):\n",
    "        if k+1 >= len(array):\n",
    "            return False\n",
    "        elif array[k] > array[k+1]:\n",
    "            if k+2 >= len(array):\n",
    "                return False\n",
    "            else:\n",
    "                return is_stable(array,i+2,j+2,k+2)\n",
    "        else:\n",
    "            return True\n",
    "    elif array[i] < array[j] and array[j] <array[k]:\n",
    "        if k+2 >= len(array):\n",
    "            return False\n",
    "        else:\n",
    "            return is_stable(array,i+2,j+2,k+2)"
   ]
  },
  {
   "cell_type": "code",
   "execution_count": 112,
   "id": "81b760e0",
   "metadata": {},
   "outputs": [],
   "source": [
    "counter = 0"
   ]
  },
  {
   "cell_type": "code",
   "execution_count": 113,
   "id": "6fab21d3",
   "metadata": {},
   "outputs": [],
   "source": [
    "def get_unsorted_distinct_array(number_of_items):\n",
    "    max_value = number_of_items*10\n",
    "    min_value_index = random.randint(0,number_of_items-1)\n",
    "    array = []\n",
    "    prev_value = 2\n",
    "    while number_of_items > 0:\n",
    "        if min_value_index == number_of_items:\n",
    "            number = 1\n",
    "        else:\n",
    "            number = random.randint(prev_value+1,prev_value+30)\n",
    "            prev_value = number\n",
    "        if array.count(number) > 0:\n",
    "            continue\n",
    "        else:\n",
    "            array.append(number)\n",
    "            number_of_items = number_of_items -1\n",
    "    return array"
   ]
  },
  {
   "cell_type": "code",
   "execution_count": 123,
   "id": "2f842c77",
   "metadata": {},
   "outputs": [],
   "source": [
    "results = []\n",
    "number_of_items = 10\n",
    "N = 1000\n",
    "while number_of_items < N:\n",
    "    num_test = 0\n",
    "    counter_array = []\n",
    "    while num_test < NUM_TESTS:\n",
    "        counter = 0\n",
    "        array = get_unsorted_distinct_array(number_of_items=number_of_items)\n",
    "        #print (array)\n",
    "        i =0\n",
    "        j = 1\n",
    "        k = 2\n",
    "\n",
    "        result = is_stable(array,i,j,k)\n",
    "        counter_array.append(counter)\n",
    "        num_test += 1\n",
    "    results.append({\"array_length\": number_of_items,\"90_counter\":  np.percentile(counter_array, 90),\"99_counter\":  np.percentile(counter_array, 99),\"75_counter\":  np.percentile(counter_array, 75)})\n",
    "    number_of_items += 1"
   ]
  },
  {
   "cell_type": "code",
   "execution_count": 124,
   "id": "e516bb43",
   "metadata": {},
   "outputs": [
    {
     "data": {
      "text/plain": [
       "1000"
      ]
     },
     "execution_count": 124,
     "metadata": {},
     "output_type": "execute_result"
    }
   ],
   "source": [
    "number_of_items"
   ]
  },
  {
   "cell_type": "code",
   "execution_count": 125,
   "id": "f8dc5519",
   "metadata": {},
   "outputs": [],
   "source": [
    "def return_logn(row):\n",
    "    return math.log(row[\"array_length\"],2)"
   ]
  },
  {
   "cell_type": "code",
   "execution_count": 126,
   "id": "680c6ae8",
   "metadata": {},
   "outputs": [],
   "source": [
    "df = pd.DataFrame.from_dict(results)"
   ]
  },
  {
   "cell_type": "code",
   "execution_count": 127,
   "id": "11eb2d94",
   "metadata": {},
   "outputs": [
    {
     "data": {
      "text/html": [
       "<div>\n",
       "<style scoped>\n",
       "    .dataframe tbody tr th:only-of-type {\n",
       "        vertical-align: middle;\n",
       "    }\n",
       "\n",
       "    .dataframe tbody tr th {\n",
       "        vertical-align: top;\n",
       "    }\n",
       "\n",
       "    .dataframe thead th {\n",
       "        text-align: right;\n",
       "    }\n",
       "</style>\n",
       "<table border=\"1\" class=\"dataframe\">\n",
       "  <thead>\n",
       "    <tr style=\"text-align: right;\">\n",
       "      <th></th>\n",
       "      <th>array_length</th>\n",
       "      <th>90_counter</th>\n",
       "      <th>99_counter</th>\n",
       "      <th>75_counter</th>\n",
       "    </tr>\n",
       "  </thead>\n",
       "  <tbody>\n",
       "    <tr>\n",
       "      <th>0</th>\n",
       "      <td>10</td>\n",
       "      <td>4.0</td>\n",
       "      <td>4.0</td>\n",
       "      <td>3.0</td>\n",
       "    </tr>\n",
       "    <tr>\n",
       "      <th>1</th>\n",
       "      <td>11</td>\n",
       "      <td>5.0</td>\n",
       "      <td>5.0</td>\n",
       "      <td>4.0</td>\n",
       "    </tr>\n",
       "    <tr>\n",
       "      <th>2</th>\n",
       "      <td>12</td>\n",
       "      <td>5.0</td>\n",
       "      <td>5.0</td>\n",
       "      <td>4.0</td>\n",
       "    </tr>\n",
       "    <tr>\n",
       "      <th>3</th>\n",
       "      <td>13</td>\n",
       "      <td>6.0</td>\n",
       "      <td>6.0</td>\n",
       "      <td>6.0</td>\n",
       "    </tr>\n",
       "    <tr>\n",
       "      <th>4</th>\n",
       "      <td>14</td>\n",
       "      <td>6.0</td>\n",
       "      <td>6.0</td>\n",
       "      <td>6.0</td>\n",
       "    </tr>\n",
       "  </tbody>\n",
       "</table>\n",
       "</div>"
      ],
      "text/plain": [
       "   array_length  90_counter  99_counter  75_counter\n",
       "0            10         4.0         4.0         3.0\n",
       "1            11         5.0         5.0         4.0\n",
       "2            12         5.0         5.0         4.0\n",
       "3            13         6.0         6.0         6.0\n",
       "4            14         6.0         6.0         6.0"
      ]
     },
     "execution_count": 127,
     "metadata": {},
     "output_type": "execute_result"
    }
   ],
   "source": [
    "df.head()"
   ]
  },
  {
   "cell_type": "code",
   "execution_count": 128,
   "id": "6b039a08",
   "metadata": {},
   "outputs": [],
   "source": [
    "df[\"logn\"] = df.apply(lambda row: return_logn(row), axis=1)"
   ]
  },
  {
   "cell_type": "code",
   "execution_count": 129,
   "id": "645f69b2",
   "metadata": {},
   "outputs": [
    {
     "data": {
      "text/html": [
       "<div>\n",
       "<style scoped>\n",
       "    .dataframe tbody tr th:only-of-type {\n",
       "        vertical-align: middle;\n",
       "    }\n",
       "\n",
       "    .dataframe tbody tr th {\n",
       "        vertical-align: top;\n",
       "    }\n",
       "\n",
       "    .dataframe thead th {\n",
       "        text-align: right;\n",
       "    }\n",
       "</style>\n",
       "<table border=\"1\" class=\"dataframe\">\n",
       "  <thead>\n",
       "    <tr style=\"text-align: right;\">\n",
       "      <th></th>\n",
       "      <th>array_length</th>\n",
       "      <th>90_counter</th>\n",
       "      <th>99_counter</th>\n",
       "      <th>75_counter</th>\n",
       "      <th>logn</th>\n",
       "    </tr>\n",
       "  </thead>\n",
       "  <tbody>\n",
       "    <tr>\n",
       "      <th>985</th>\n",
       "      <td>995</td>\n",
       "      <td>471.2</td>\n",
       "      <td>490.64</td>\n",
       "      <td>391.0</td>\n",
       "      <td>9.958553</td>\n",
       "    </tr>\n",
       "    <tr>\n",
       "      <th>986</th>\n",
       "      <td>996</td>\n",
       "      <td>462.4</td>\n",
       "      <td>483.96</td>\n",
       "      <td>407.0</td>\n",
       "      <td>9.960002</td>\n",
       "    </tr>\n",
       "    <tr>\n",
       "      <th>987</th>\n",
       "      <td>997</td>\n",
       "      <td>464.0</td>\n",
       "      <td>488.60</td>\n",
       "      <td>390.0</td>\n",
       "      <td>9.961450</td>\n",
       "    </tr>\n",
       "    <tr>\n",
       "      <th>988</th>\n",
       "      <td>998</td>\n",
       "      <td>454.2</td>\n",
       "      <td>489.84</td>\n",
       "      <td>376.0</td>\n",
       "      <td>9.962896</td>\n",
       "    </tr>\n",
       "    <tr>\n",
       "      <th>989</th>\n",
       "      <td>999</td>\n",
       "      <td>460.6</td>\n",
       "      <td>490.16</td>\n",
       "      <td>391.0</td>\n",
       "      <td>9.964341</td>\n",
       "    </tr>\n",
       "  </tbody>\n",
       "</table>\n",
       "</div>"
      ],
      "text/plain": [
       "     array_length  90_counter  99_counter  75_counter      logn\n",
       "985           995       471.2      490.64       391.0  9.958553\n",
       "986           996       462.4      483.96       407.0  9.960002\n",
       "987           997       464.0      488.60       390.0  9.961450\n",
       "988           998       454.2      489.84       376.0  9.962896\n",
       "989           999       460.6      490.16       391.0  9.964341"
      ]
     },
     "execution_count": 129,
     "metadata": {},
     "output_type": "execute_result"
    }
   ],
   "source": [
    "df.tail()"
   ]
  },
  {
   "cell_type": "code",
   "execution_count": 130,
   "id": "cea7119f",
   "metadata": {},
   "outputs": [
    {
     "data": {
      "text/plain": [
       "<AxesSubplot:>"
      ]
     },
     "execution_count": 130,
     "metadata": {},
     "output_type": "execute_result"
    },
    {
     "data": {
      "image/png": "[encoded data removed]",
      "text/plain": [
       "<Figure size 432x288 with 1 Axes>"
      ]
     },
     "metadata": {
      "needs_background": "light"
     },
     "output_type": "display_data"
    }
   ],
   "source": [
    "df.plot.line()"
   ]
  },
  {
   "cell_type": "code",
   "execution_count": 110,
   "id": "e51ab60f",
   "metadata": {},
   "outputs": [
    {
     "name": "stdout",
     "output_type": "stream",
     "text": [
      "[20, 39, 44, 45, 70, 77, 103, 120, 131, 144, 1]\n"
     ]
    },
    {
     "ename": "IndexError",
     "evalue": "list index out of range",
     "output_type": "error",
     "traceback": [
      "\u001b[0;31m---------------------------------------------------------------------------\u001b[0m",
      "\u001b[0;31mIndexError\u001b[0m                                Traceback (most recent call last)",
      "\u001b[0;32m/tmp/ipykernel_655284/2121687124.py\u001b[0m in \u001b[0;36m<module>\u001b[0;34m\u001b[0m\n\u001b[1;32m      3\u001b[0m \u001b[0marray\u001b[0m \u001b[0;34m=\u001b[0m \u001b[0;34m[\u001b[0m\u001b[0;36m20\u001b[0m\u001b[0;34m,\u001b[0m \u001b[0;36m39\u001b[0m\u001b[0;34m,\u001b[0m \u001b[0;36m44\u001b[0m\u001b[0;34m,\u001b[0m \u001b[0;36m45\u001b[0m\u001b[0;34m,\u001b[0m \u001b[0;36m70\u001b[0m\u001b[0;34m,\u001b[0m \u001b[0;36m77\u001b[0m\u001b[0;34m,\u001b[0m \u001b[0;36m103\u001b[0m\u001b[0;34m,\u001b[0m \u001b[0;36m120\u001b[0m\u001b[0;34m,\u001b[0m \u001b[0;36m131\u001b[0m\u001b[0;34m,\u001b[0m \u001b[0;36m144\u001b[0m\u001b[0;34m,\u001b[0m \u001b[0;36m1\u001b[0m\u001b[0;34m]\u001b[0m\u001b[0;34m\u001b[0m\u001b[0;34m\u001b[0m\u001b[0m\n\u001b[1;32m      4\u001b[0m \u001b[0mprint\u001b[0m \u001b[0;34m(\u001b[0m\u001b[0marray\u001b[0m\u001b[0;34m)\u001b[0m\u001b[0;34m\u001b[0m\u001b[0;34m\u001b[0m\u001b[0m\n\u001b[0;32m----> 5\u001b[0;31m \u001b[0mprint\u001b[0m \u001b[0;34m(\u001b[0m\u001b[0mis_stable\u001b[0m\u001b[0;34m(\u001b[0m\u001b[0marray\u001b[0m\u001b[0;34m,\u001b[0m\u001b[0;36m0\u001b[0m\u001b[0;34m,\u001b[0m\u001b[0;36m1\u001b[0m\u001b[0;34m,\u001b[0m\u001b[0;36m2\u001b[0m\u001b[0;34m)\u001b[0m\u001b[0;34m)\u001b[0m\u001b[0;34m\u001b[0m\u001b[0;34m\u001b[0m\u001b[0m\n\u001b[0m\u001b[1;32m      6\u001b[0m \u001b[0mprint\u001b[0m \u001b[0;34m(\u001b[0m\u001b[0mcounter\u001b[0m\u001b[0;34m)\u001b[0m\u001b[0;34m\u001b[0m\u001b[0;34m\u001b[0m\u001b[0m\n",
      "\u001b[0;32m/tmp/ipykernel_655284/4162222046.py\u001b[0m in \u001b[0;36mis_stable\u001b[0;34m(array, i, j, k)\u001b[0m\n\u001b[1;32m     16\u001b[0m             \u001b[0;32mreturn\u001b[0m \u001b[0;32mFalse\u001b[0m\u001b[0;34m\u001b[0m\u001b[0;34m\u001b[0m\u001b[0m\n\u001b[1;32m     17\u001b[0m         \u001b[0;32melse\u001b[0m\u001b[0;34m:\u001b[0m\u001b[0;34m\u001b[0m\u001b[0;34m\u001b[0m\u001b[0m\n\u001b[0;32m---> 18\u001b[0;31m             \u001b[0;32mreturn\u001b[0m \u001b[0mis_stable\u001b[0m\u001b[0;34m(\u001b[0m\u001b[0marray\u001b[0m\u001b[0;34m,\u001b[0m\u001b[0mi\u001b[0m\u001b[0;34m+\u001b[0m\u001b[0;36m2\u001b[0m\u001b[0;34m,\u001b[0m\u001b[0mj\u001b[0m\u001b[0;34m+\u001b[0m\u001b[0;36m2\u001b[0m\u001b[0;34m,\u001b[0m\u001b[0mk\u001b[0m\u001b[0;34m+\u001b[0m\u001b[0;36m2\u001b[0m\u001b[0;34m)\u001b[0m\u001b[0;34m\u001b[0m\u001b[0;34m\u001b[0m\u001b[0m\n\u001b[0m",
      "\u001b[0;32m/tmp/ipykernel_655284/4162222046.py\u001b[0m in \u001b[0;36mis_stable\u001b[0;34m(array, i, j, k)\u001b[0m\n\u001b[1;32m     16\u001b[0m             \u001b[0;32mreturn\u001b[0m \u001b[0;32mFalse\u001b[0m\u001b[0;34m\u001b[0m\u001b[0;34m\u001b[0m\u001b[0m\n\u001b[1;32m     17\u001b[0m         \u001b[0;32melse\u001b[0m\u001b[0;34m:\u001b[0m\u001b[0;34m\u001b[0m\u001b[0;34m\u001b[0m\u001b[0m\n\u001b[0;32m---> 18\u001b[0;31m             \u001b[0;32mreturn\u001b[0m \u001b[0mis_stable\u001b[0m\u001b[0;34m(\u001b[0m\u001b[0marray\u001b[0m\u001b[0;34m,\u001b[0m\u001b[0mi\u001b[0m\u001b[0;34m+\u001b[0m\u001b[0;36m2\u001b[0m\u001b[0;34m,\u001b[0m\u001b[0mj\u001b[0m\u001b[0;34m+\u001b[0m\u001b[0;36m2\u001b[0m\u001b[0;34m,\u001b[0m\u001b[0mk\u001b[0m\u001b[0;34m+\u001b[0m\u001b[0;36m2\u001b[0m\u001b[0;34m)\u001b[0m\u001b[0;34m\u001b[0m\u001b[0;34m\u001b[0m\u001b[0m\n\u001b[0m",
      "\u001b[0;32m/tmp/ipykernel_655284/4162222046.py\u001b[0m in \u001b[0;36mis_stable\u001b[0;34m(array, i, j, k)\u001b[0m\n\u001b[1;32m     16\u001b[0m             \u001b[0;32mreturn\u001b[0m \u001b[0;32mFalse\u001b[0m\u001b[0;34m\u001b[0m\u001b[0;34m\u001b[0m\u001b[0m\n\u001b[1;32m     17\u001b[0m         \u001b[0;32melse\u001b[0m\u001b[0;34m:\u001b[0m\u001b[0;34m\u001b[0m\u001b[0;34m\u001b[0m\u001b[0m\n\u001b[0;32m---> 18\u001b[0;31m             \u001b[0;32mreturn\u001b[0m \u001b[0mis_stable\u001b[0m\u001b[0;34m(\u001b[0m\u001b[0marray\u001b[0m\u001b[0;34m,\u001b[0m\u001b[0mi\u001b[0m\u001b[0;34m+\u001b[0m\u001b[0;36m2\u001b[0m\u001b[0;34m,\u001b[0m\u001b[0mj\u001b[0m\u001b[0;34m+\u001b[0m\u001b[0;36m2\u001b[0m\u001b[0;34m,\u001b[0m\u001b[0mk\u001b[0m\u001b[0;34m+\u001b[0m\u001b[0;36m2\u001b[0m\u001b[0;34m)\u001b[0m\u001b[0;34m\u001b[0m\u001b[0;34m\u001b[0m\u001b[0m\n\u001b[0m",
      "\u001b[0;32m/tmp/ipykernel_655284/4162222046.py\u001b[0m in \u001b[0;36mis_stable\u001b[0;34m(array, i, j, k)\u001b[0m\n\u001b[1;32m     16\u001b[0m             \u001b[0;32mreturn\u001b[0m \u001b[0;32mFalse\u001b[0m\u001b[0;34m\u001b[0m\u001b[0;34m\u001b[0m\u001b[0m\n\u001b[1;32m     17\u001b[0m         \u001b[0;32melse\u001b[0m\u001b[0;34m:\u001b[0m\u001b[0;34m\u001b[0m\u001b[0;34m\u001b[0m\u001b[0m\n\u001b[0;32m---> 18\u001b[0;31m             \u001b[0;32mreturn\u001b[0m \u001b[0mis_stable\u001b[0m\u001b[0;34m(\u001b[0m\u001b[0marray\u001b[0m\u001b[0;34m,\u001b[0m\u001b[0mi\u001b[0m\u001b[0;34m+\u001b[0m\u001b[0;36m2\u001b[0m\u001b[0;34m,\u001b[0m\u001b[0mj\u001b[0m\u001b[0;34m+\u001b[0m\u001b[0;36m2\u001b[0m\u001b[0;34m,\u001b[0m\u001b[0mk\u001b[0m\u001b[0;34m+\u001b[0m\u001b[0;36m2\u001b[0m\u001b[0;34m)\u001b[0m\u001b[0;34m\u001b[0m\u001b[0;34m\u001b[0m\u001b[0m\n\u001b[0m",
      "\u001b[0;32m/tmp/ipykernel_655284/4162222046.py\u001b[0m in \u001b[0;36mis_stable\u001b[0;34m(array, i, j, k)\u001b[0m\n\u001b[1;32m      5\u001b[0m         \u001b[0;32mreturn\u001b[0m \u001b[0;32mTrue\u001b[0m\u001b[0;34m\u001b[0m\u001b[0;34m\u001b[0m\u001b[0m\n\u001b[1;32m      6\u001b[0m     \u001b[0;32melif\u001b[0m \u001b[0;34m(\u001b[0m\u001b[0marray\u001b[0m\u001b[0;34m[\u001b[0m\u001b[0mi\u001b[0m\u001b[0;34m]\u001b[0m \u001b[0;34m>\u001b[0m \u001b[0marray\u001b[0m\u001b[0;34m[\u001b[0m\u001b[0mj\u001b[0m\u001b[0;34m]\u001b[0m \u001b[0;32mand\u001b[0m \u001b[0marray\u001b[0m\u001b[0;34m[\u001b[0m\u001b[0mj\u001b[0m\u001b[0;34m]\u001b[0m \u001b[0;34m>\u001b[0m \u001b[0marray\u001b[0m\u001b[0;34m[\u001b[0m\u001b[0mk\u001b[0m\u001b[0;34m]\u001b[0m\u001b[0;34m)\u001b[0m \u001b[0;32mor\u001b[0m \u001b[0;34m(\u001b[0m\u001b[0marray\u001b[0m\u001b[0;34m[\u001b[0m\u001b[0mi\u001b[0m\u001b[0;34m]\u001b[0m \u001b[0;34m<\u001b[0m \u001b[0marray\u001b[0m\u001b[0;34m[\u001b[0m\u001b[0mj\u001b[0m\u001b[0;34m]\u001b[0m \u001b[0;32mand\u001b[0m \u001b[0marray\u001b[0m\u001b[0;34m[\u001b[0m\u001b[0mj\u001b[0m\u001b[0;34m]\u001b[0m \u001b[0;34m>\u001b[0m \u001b[0marray\u001b[0m\u001b[0;34m[\u001b[0m\u001b[0mk\u001b[0m\u001b[0;34m]\u001b[0m\u001b[0;34m)\u001b[0m\u001b[0;34m:\u001b[0m\u001b[0;34m\u001b[0m\u001b[0;34m\u001b[0m\u001b[0m\n\u001b[0;32m----> 7\u001b[0;31m         \u001b[0;32mif\u001b[0m \u001b[0marray\u001b[0m\u001b[0;34m[\u001b[0m\u001b[0mk\u001b[0m\u001b[0;34m]\u001b[0m \u001b[0;34m>\u001b[0m \u001b[0marray\u001b[0m\u001b[0;34m[\u001b[0m\u001b[0mk\u001b[0m\u001b[0;34m+\u001b[0m\u001b[0;36m1\u001b[0m\u001b[0;34m]\u001b[0m\u001b[0;34m:\u001b[0m\u001b[0;34m\u001b[0m\u001b[0;34m\u001b[0m\u001b[0m\n\u001b[0m\u001b[1;32m      8\u001b[0m             \u001b[0;32mif\u001b[0m \u001b[0mk\u001b[0m\u001b[0;34m+\u001b[0m\u001b[0;36m2\u001b[0m \u001b[0;34m>=\u001b[0m \u001b[0mlen\u001b[0m\u001b[0;34m(\u001b[0m\u001b[0marray\u001b[0m\u001b[0;34m)\u001b[0m\u001b[0;34m:\u001b[0m\u001b[0;34m\u001b[0m\u001b[0;34m\u001b[0m\u001b[0m\n\u001b[1;32m      9\u001b[0m                 \u001b[0;32mreturn\u001b[0m \u001b[0;32mFalse\u001b[0m\u001b[0;34m\u001b[0m\u001b[0;34m\u001b[0m\u001b[0m\n",
      "\u001b[0;31mIndexError\u001b[0m: list index out of range"
     ]
    }
   ],
   "source": [
    "\n",
    "counter = 1\n",
    "array = get_unsorted_distinct_array(number_of_items=11)\n",
    "array = [20, 39, 44, 45, 70, 77, 103, 120, 131, 144, 1]\n",
    "print (array)\n",
    "print (is_stable(array,0,1,2))\n",
    "print (counter)"
   ]
  },
  {
   "cell_type": "code",
   "execution_count": 139,
   "id": "cb4c02fb",
   "metadata": {},
   "outputs": [],
   "source": [
    "def is_stable2(array):\n",
    "    global counter\n",
    "    counter += 1\n",
    "    l = len(array)\n",
    "    mid = l // 2\n",
    "    arr1 = array[0:mid]\n",
    "    arr2 = array[mid:]\n",
    "\n",
    "    if (arr1[-1] < arr1[-2] and arr1[-1] < arr2[0]) or (arr2[0] < arr2[1] and arr2[0] < arr1[-1]):\n",
    "        return True\n",
    "\n",
    "\n",
    "    if len(arr1) == 3:\n",
    "        if arr1[1] < arr1[0] and arr1[1] < arr1[2]:\n",
    "            return True\n",
    "    if len(arr2) == 3:\n",
    "        if arr2[1] < arr2[0] and arr2[1] < arr2[2]:\n",
    "            return True\n",
    "\n",
    "    if len(arr1) <= 3:\n",
    "        return False\n",
    "    \n",
    "    if  len(arr2) <= 3:\n",
    "        return False\n",
    "\n",
    "    arr1_result = is_stable2(arr1)\n",
    "    if arr1_result:\n",
    "        return True\n",
    "    else:\n",
    "        return is_stable2(arr2)"
   ]
  },
  {
   "cell_type": "code",
   "execution_count": 171,
   "id": "506a2665",
   "metadata": {},
   "outputs": [
    {
     "ename": "KeyboardInterrupt",
     "evalue": "",
     "output_type": "error",
     "traceback": [
      "\u001b[0;31m---------------------------------------------------------------------------\u001b[0m",
      "\u001b[0;31mKeyboardInterrupt\u001b[0m                         Traceback (most recent call last)",
      "\u001b[0;32m/tmp/ipykernel_655284/313433162.py\u001b[0m in \u001b[0;36m<module>\u001b[0;34m\u001b[0m\n\u001b[1;32m      8\u001b[0m     \u001b[0;32mwhile\u001b[0m \u001b[0mnum_test\u001b[0m \u001b[0;34m<\u001b[0m \u001b[0mNUM_TESTS\u001b[0m\u001b[0;34m:\u001b[0m\u001b[0;34m\u001b[0m\u001b[0;34m\u001b[0m\u001b[0m\n\u001b[1;32m      9\u001b[0m         \u001b[0mcounter\u001b[0m \u001b[0;34m=\u001b[0m \u001b[0;36m0\u001b[0m\u001b[0;34m\u001b[0m\u001b[0;34m\u001b[0m\u001b[0m\n\u001b[0;32m---> 10\u001b[0;31m         \u001b[0marray\u001b[0m \u001b[0;34m=\u001b[0m \u001b[0mget_unsorted_distinct_array\u001b[0m\u001b[0;34m(\u001b[0m\u001b[0mnumber_of_items\u001b[0m\u001b[0;34m=\u001b[0m\u001b[0mnumber_of_items\u001b[0m\u001b[0;34m)\u001b[0m\u001b[0;34m\u001b[0m\u001b[0;34m\u001b[0m\u001b[0m\n\u001b[0m\u001b[1;32m     11\u001b[0m         \u001b[0;31m#print (array)\u001b[0m\u001b[0;34m\u001b[0m\u001b[0;34m\u001b[0m\u001b[0m\n\u001b[1;32m     12\u001b[0m         \u001b[0mstart\u001b[0m \u001b[0;34m=\u001b[0m \u001b[0mdatetime\u001b[0m\u001b[0;34m.\u001b[0m\u001b[0mnow\u001b[0m\u001b[0;34m(\u001b[0m\u001b[0;34m)\u001b[0m\u001b[0;34m\u001b[0m\u001b[0;34m\u001b[0m\u001b[0m\n",
      "\u001b[0;32m/tmp/ipykernel_655284/3892354099.py\u001b[0m in \u001b[0;36mget_unsorted_distinct_array\u001b[0;34m(number_of_items)\u001b[0m\n\u001b[1;32m     10\u001b[0m             \u001b[0mnumber\u001b[0m \u001b[0;34m=\u001b[0m \u001b[0mrandom\u001b[0m\u001b[0;34m.\u001b[0m\u001b[0mrandint\u001b[0m\u001b[0;34m(\u001b[0m\u001b[0mprev_value\u001b[0m\u001b[0;34m+\u001b[0m\u001b[0;36m1\u001b[0m\u001b[0;34m,\u001b[0m\u001b[0mprev_value\u001b[0m\u001b[0;34m+\u001b[0m\u001b[0;36m30\u001b[0m\u001b[0;34m)\u001b[0m\u001b[0;34m\u001b[0m\u001b[0;34m\u001b[0m\u001b[0m\n\u001b[1;32m     11\u001b[0m             \u001b[0mprev_value\u001b[0m \u001b[0;34m=\u001b[0m \u001b[0mnumber\u001b[0m\u001b[0;34m\u001b[0m\u001b[0;34m\u001b[0m\u001b[0m\n\u001b[0;32m---> 12\u001b[0;31m         \u001b[0;32mif\u001b[0m \u001b[0marray\u001b[0m\u001b[0;34m.\u001b[0m\u001b[0mcount\u001b[0m\u001b[0;34m(\u001b[0m\u001b[0mnumber\u001b[0m\u001b[0;34m)\u001b[0m \u001b[0;34m>\u001b[0m \u001b[0;36m0\u001b[0m\u001b[0;34m:\u001b[0m\u001b[0;34m\u001b[0m\u001b[0;34m\u001b[0m\u001b[0m\n\u001b[0m\u001b[1;32m     13\u001b[0m             \u001b[0;32mcontinue\u001b[0m\u001b[0;34m\u001b[0m\u001b[0;34m\u001b[0m\u001b[0m\n\u001b[1;32m     14\u001b[0m         \u001b[0;32melse\u001b[0m\u001b[0;34m:\u001b[0m\u001b[0;34m\u001b[0m\u001b[0;34m\u001b[0m\u001b[0m\n",
      "\u001b[0;31mKeyboardInterrupt\u001b[0m: "
     ]
    }
   ],
   "source": [
    "from datetime import datetime\n",
    "results = []\n",
    "number_of_items = 10\n",
    "N = 10000\n",
    "while number_of_items < N:\n",
    "    num_test = 0\n",
    "    counter_array = []\n",
    "    while num_test < NUM_TESTS:\n",
    "        counter = 0\n",
    "        array = get_unsorted_distinct_array(number_of_items=number_of_items)\n",
    "        #print (array)\n",
    "        start = datetime.now()\n",
    "        result = is_stable2(array)\n",
    "        end = datetime.now()\n",
    "        counter_array.append(counter)\n",
    "        num_test += 1\n",
    "    results.append({\"array_length\": number_of_items,\"execution_time\": (end-start).microseconds})\n",
    "    number_of_items += 1"
   ]
  },
  {
   "cell_type": "code",
   "execution_count": 164,
   "id": "ad99e9ac",
   "metadata": {},
   "outputs": [],
   "source": [
    "df = pd.DataFrame.from_dict(results)"
   ]
  },
  {
   "cell_type": "code",
   "execution_count": 165,
   "id": "51e1cd3b",
   "metadata": {},
   "outputs": [
    {
     "data": {
      "text/html": [
       "<div>\n",
       "<style scoped>\n",
       "    .dataframe tbody tr th:only-of-type {\n",
       "        vertical-align: middle;\n",
       "    }\n",
       "\n",
       "    .dataframe tbody tr th {\n",
       "        vertical-align: top;\n",
       "    }\n",
       "\n",
       "    .dataframe thead th {\n",
       "        text-align: right;\n",
       "    }\n",
       "</style>\n",
       "<table border=\"1\" class=\"dataframe\">\n",
       "  <thead>\n",
       "    <tr style=\"text-align: right;\">\n",
       "      <th></th>\n",
       "      <th>array_length</th>\n",
       "      <th>execution_time</th>\n",
       "    </tr>\n",
       "  </thead>\n",
       "  <tbody>\n",
       "    <tr>\n",
       "      <th>0</th>\n",
       "      <td>10</td>\n",
       "      <td>4</td>\n",
       "    </tr>\n",
       "    <tr>\n",
       "      <th>1</th>\n",
       "      <td>11</td>\n",
       "      <td>521</td>\n",
       "    </tr>\n",
       "    <tr>\n",
       "      <th>2</th>\n",
       "      <td>12</td>\n",
       "      <td>2</td>\n",
       "    </tr>\n",
       "    <tr>\n",
       "      <th>3</th>\n",
       "      <td>13</td>\n",
       "      <td>2</td>\n",
       "    </tr>\n",
       "    <tr>\n",
       "      <th>4</th>\n",
       "      <td>14</td>\n",
       "      <td>1</td>\n",
       "    </tr>\n",
       "  </tbody>\n",
       "</table>\n",
       "</div>"
      ],
      "text/plain": [
       "   array_length  execution_time\n",
       "0            10               4\n",
       "1            11             521\n",
       "2            12               2\n",
       "3            13               2\n",
       "4            14               1"
      ]
     },
     "execution_count": 165,
     "metadata": {},
     "output_type": "execute_result"
    }
   ],
   "source": [
    "df.head()"
   ]
  },
  {
   "cell_type": "code",
   "execution_count": 166,
   "id": "62e8d9df",
   "metadata": {},
   "outputs": [],
   "source": [
    "df[\"logn\"] = df.apply(lambda row: return_logn(row), axis=1)"
   ]
  },
  {
   "cell_type": "code",
   "execution_count": 170,
   "id": "04602390",
   "metadata": {},
   "outputs": [
    {
     "data": {
      "text/plain": [
       "<AxesSubplot:>"
      ]
     },
     "execution_count": 170,
     "metadata": {},
     "output_type": "execute_result"
    },
    {
     "data": {
      "image/png": "[encoded data removed]",
      "text/plain": [
       "<Figure size 432x288 with 1 Axes>"
      ]
     },
     "metadata": {
      "needs_background": "light"
     },
     "output_type": "display_data"
    }
   ],
   "source": [
    "df.plot.line()"
   ]
  },
  {
   "cell_type": "code",
   "execution_count": 168,
   "id": "f3d5a0cc",
   "metadata": {},
   "outputs": [
    {
     "data": {
      "text/html": [
       "<div>\n",
       "<style scoped>\n",
       "    .dataframe tbody tr th:only-of-type {\n",
       "        vertical-align: middle;\n",
       "    }\n",
       "\n",
       "    .dataframe tbody tr th {\n",
       "        vertical-align: top;\n",
       "    }\n",
       "\n",
       "    .dataframe thead th {\n",
       "        text-align: right;\n",
       "    }\n",
       "</style>\n",
       "<table border=\"1\" class=\"dataframe\">\n",
       "  <thead>\n",
       "    <tr style=\"text-align: right;\">\n",
       "      <th></th>\n",
       "      <th>execution_time</th>\n",
       "      <th>logn</th>\n",
       "    </tr>\n",
       "    <tr>\n",
       "      <th>array_length</th>\n",
       "      <th></th>\n",
       "      <th></th>\n",
       "    </tr>\n",
       "  </thead>\n",
       "  <tbody>\n",
       "    <tr>\n",
       "      <th>10</th>\n",
       "      <td>4</td>\n",
       "      <td>3.321928</td>\n",
       "    </tr>\n",
       "    <tr>\n",
       "      <th>11</th>\n",
       "      <td>521</td>\n",
       "      <td>3.459432</td>\n",
       "    </tr>\n",
       "    <tr>\n",
       "      <th>12</th>\n",
       "      <td>2</td>\n",
       "      <td>3.584963</td>\n",
       "    </tr>\n",
       "    <tr>\n",
       "      <th>13</th>\n",
       "      <td>2</td>\n",
       "      <td>3.700440</td>\n",
       "    </tr>\n",
       "    <tr>\n",
       "      <th>14</th>\n",
       "      <td>1</td>\n",
       "      <td>3.807355</td>\n",
       "    </tr>\n",
       "    <tr>\n",
       "      <th>...</th>\n",
       "      <td>...</td>\n",
       "      <td>...</td>\n",
       "    </tr>\n",
       "    <tr>\n",
       "      <th>995</th>\n",
       "      <td>10</td>\n",
       "      <td>9.958553</td>\n",
       "    </tr>\n",
       "    <tr>\n",
       "      <th>996</th>\n",
       "      <td>70</td>\n",
       "      <td>9.960002</td>\n",
       "    </tr>\n",
       "    <tr>\n",
       "      <th>997</th>\n",
       "      <td>118</td>\n",
       "      <td>9.961450</td>\n",
       "    </tr>\n",
       "    <tr>\n",
       "      <th>998</th>\n",
       "      <td>322</td>\n",
       "      <td>9.962896</td>\n",
       "    </tr>\n",
       "    <tr>\n",
       "      <th>999</th>\n",
       "      <td>186</td>\n",
       "      <td>9.964341</td>\n",
       "    </tr>\n",
       "  </tbody>\n",
       "</table>\n",
       "<p>990 rows × 2 columns</p>\n",
       "</div>"
      ],
      "text/plain": [
       "              execution_time      logn\n",
       "array_length                          \n",
       "10                         4  3.321928\n",
       "11                       521  3.459432\n",
       "12                         2  3.584963\n",
       "13                         2  3.700440\n",
       "14                         1  3.807355\n",
       "...                      ...       ...\n",
       "995                       10  9.958553\n",
       "996                       70  9.960002\n",
       "997                      118  9.961450\n",
       "998                      322  9.962896\n",
       "999                      186  9.964341\n",
       "\n",
       "[990 rows x 2 columns]"
      ]
     },
     "execution_count": 168,
     "metadata": {},
     "output_type": "execute_result"
    }
   ],
   "source": [
    "df.set_index('array_length')"
   ]
  },
  {
   "cell_type": "code",
   "execution_count": 161,
   "id": "1189b7ac",
   "metadata": {},
   "outputs": [
    {
     "data": {
      "text/html": [
       "<div>\n",
       "<style scoped>\n",
       "    .dataframe tbody tr th:only-of-type {\n",
       "        vertical-align: middle;\n",
       "    }\n",
       "\n",
       "    .dataframe tbody tr th {\n",
       "        vertical-align: top;\n",
       "    }\n",
       "\n",
       "    .dataframe thead th {\n",
       "        text-align: right;\n",
       "    }\n",
       "</style>\n",
       "<table border=\"1\" class=\"dataframe\">\n",
       "  <thead>\n",
       "    <tr style=\"text-align: right;\">\n",
       "      <th></th>\n",
       "      <th>array_length</th>\n",
       "      <th>execution_time</th>\n",
       "      <th>90_counter</th>\n",
       "      <th>99_counter</th>\n",
       "      <th>75_counter</th>\n",
       "      <th>nlogn</th>\n",
       "    </tr>\n",
       "  </thead>\n",
       "  <tbody>\n",
       "    <tr>\n",
       "      <th>0</th>\n",
       "      <td>10</td>\n",
       "      <td>0</td>\n",
       "      <td>21.0</td>\n",
       "      <td>24.28</td>\n",
       "      <td>18.0</td>\n",
       "      <td>33.219281</td>\n",
       "    </tr>\n",
       "    <tr>\n",
       "      <th>1</th>\n",
       "      <td>11</td>\n",
       "      <td>0</td>\n",
       "      <td>19.6</td>\n",
       "      <td>21.76</td>\n",
       "      <td>16.0</td>\n",
       "      <td>38.053748</td>\n",
       "    </tr>\n",
       "    <tr>\n",
       "      <th>2</th>\n",
       "      <td>12</td>\n",
       "      <td>0</td>\n",
       "      <td>21.8</td>\n",
       "      <td>24.52</td>\n",
       "      <td>17.0</td>\n",
       "      <td>43.019550</td>\n",
       "    </tr>\n",
       "    <tr>\n",
       "      <th>3</th>\n",
       "      <td>13</td>\n",
       "      <td>0</td>\n",
       "      <td>18.0</td>\n",
       "      <td>30.08</td>\n",
       "      <td>16.0</td>\n",
       "      <td>48.105716</td>\n",
       "    </tr>\n",
       "    <tr>\n",
       "      <th>4</th>\n",
       "      <td>14</td>\n",
       "      <td>0</td>\n",
       "      <td>24.2</td>\n",
       "      <td>25.76</td>\n",
       "      <td>21.0</td>\n",
       "      <td>53.302969</td>\n",
       "    </tr>\n",
       "    <tr>\n",
       "      <th>...</th>\n",
       "      <td>...</td>\n",
       "      <td>...</td>\n",
       "      <td>...</td>\n",
       "      <td>...</td>\n",
       "      <td>...</td>\n",
       "      <td>...</td>\n",
       "    </tr>\n",
       "    <tr>\n",
       "      <th>985</th>\n",
       "      <td>995</td>\n",
       "      <td>0</td>\n",
       "      <td>719.4</td>\n",
       "      <td>842.36</td>\n",
       "      <td>548.0</td>\n",
       "      <td>9908.759952</td>\n",
       "    </tr>\n",
       "    <tr>\n",
       "      <th>986</th>\n",
       "      <td>996</td>\n",
       "      <td>0</td>\n",
       "      <td>789.4</td>\n",
       "      <td>850.20</td>\n",
       "      <td>607.0</td>\n",
       "      <td>9920.161924</td>\n",
       "    </tr>\n",
       "    <tr>\n",
       "      <th>987</th>\n",
       "      <td>997</td>\n",
       "      <td>0</td>\n",
       "      <td>585.8</td>\n",
       "      <td>719.64</td>\n",
       "      <td>396.0</td>\n",
       "      <td>9931.565345</td>\n",
       "    </tr>\n",
       "    <tr>\n",
       "      <th>988</th>\n",
       "      <td>998</td>\n",
       "      <td>0</td>\n",
       "      <td>604.8</td>\n",
       "      <td>881.52</td>\n",
       "      <td>486.0</td>\n",
       "      <td>9942.970213</td>\n",
       "    </tr>\n",
       "    <tr>\n",
       "      <th>989</th>\n",
       "      <td>999</td>\n",
       "      <td>0</td>\n",
       "      <td>723.2</td>\n",
       "      <td>869.00</td>\n",
       "      <td>502.0</td>\n",
       "      <td>9954.376527</td>\n",
       "    </tr>\n",
       "  </tbody>\n",
       "</table>\n",
       "<p>990 rows × 6 columns</p>\n",
       "</div>"
      ],
      "text/plain": [
       "     array_length  execution_time  90_counter  99_counter  75_counter  \\\n",
       "0              10               0        21.0       24.28        18.0   \n",
       "1              11               0        19.6       21.76        16.0   \n",
       "2              12               0        21.8       24.52        17.0   \n",
       "3              13               0        18.0       30.08        16.0   \n",
       "4              14               0        24.2       25.76        21.0   \n",
       "..            ...             ...         ...         ...         ...   \n",
       "985           995               0       719.4      842.36       548.0   \n",
       "986           996               0       789.4      850.20       607.0   \n",
       "987           997               0       585.8      719.64       396.0   \n",
       "988           998               0       604.8      881.52       486.0   \n",
       "989           999               0       723.2      869.00       502.0   \n",
       "\n",
       "           nlogn  \n",
       "0      33.219281  \n",
       "1      38.053748  \n",
       "2      43.019550  \n",
       "3      48.105716  \n",
       "4      53.302969  \n",
       "..           ...  \n",
       "985  9908.759952  \n",
       "986  9920.161924  \n",
       "987  9931.565345  \n",
       "988  9942.970213  \n",
       "989  9954.376527  \n",
       "\n",
       "[990 rows x 6 columns]"
      ]
     },
     "execution_count": 161,
     "metadata": {},
     "output_type": "execute_result"
    }
   ],
   "source": [
    "df"
   ]
  },
  {
   "cell_type": "code",
   "execution_count": 192,
   "id": "d4dd5705",
   "metadata": {},
   "outputs": [],
   "source": [
    "array1 = [1,2,3,4,5]\n",
    "array2 = [6,7,8,9]"
   ]
  },
  {
   "cell_type": "code",
   "execution_count": null,
   "id": "e37226bc",
   "metadata": {},
   "outputs": [],
   "source": [
    "d = {}\n",
    "for i in array1:\n",
    "    d[i] = 1"
   ]
  },
  {
   "cell_type": "code",
   "execution_count": 191,
   "id": "7b09ad95",
   "metadata": {},
   "outputs": [
    {
     "data": {
      "text/plain": [
       "{1: 1, 2: 1, 3: 1, 4: 1, 5: 1}"
      ]
     },
     "execution_count": 191,
     "metadata": {},
     "output_type": "execute_result"
    }
   ],
   "source": [
    "d"
   ]
  },
  {
   "cell_type": "code",
   "execution_count": 190,
   "id": "655619f4",
   "metadata": {},
   "outputs": [],
   "source": [
    "for item in array2:\n",
    "    "
   ]
  },
  {
   "cell_type": "code",
   "execution_count": null,
   "id": "3a93c92e",
   "metadata": {},
   "outputs": [],
   "source": [
    "array = [ 3 4 8 19 22 35 56]\n",
    "d = 15"
   ]
  },
  {
   "cell_type": "code",
   "execution_count": null,
   "id": "6b929187",
   "metadata": {},
   "outputs": [],
   "source": [
    "n1, n2, n3, n4, n5, n6, n7, n8\n",
    "\n",
    "n1, n2,n3,n4                 n5, n6, n7,n8\n",
    "    n3, n4, n5 or n4, n5, n6\n",
    "    \n"
   ]
  }
 ],
 "metadata": {
  "kernelspec": {
   "display_name": "Python 3 (ipykernel)",
   "language": "python",
   "name": "python3"
  },
  "language_info": {
   "codemirror_mode": {
    "name": "ipython",
    "version": 3
   },
   "file_extension": ".py",
   "mimetype": "text/x-python",
   "name": "python",
   "nbconvert_exporter": "python",
   "pygments_lexer": "ipython3",
   "version": "3.9.7"
  }
 },
 "nbformat": 4,
 "nbformat_minor": 5
}
