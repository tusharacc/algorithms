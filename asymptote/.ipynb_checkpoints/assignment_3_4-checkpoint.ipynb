{
 "cells": [
  {
   "cell_type": "code",
   "execution_count": 1,
   "id": "66eeb0ea",
   "metadata": {},
   "outputs": [],
   "source": [
    "#Find d in sorted array"
   ]
  },
  {
   "cell_type": "code",
   "execution_count": 23,
   "id": "95ce88b1",
   "metadata": {},
   "outputs": [],
   "source": [
    "import math\n",
    "import random\n",
    "from datetime import datetime"
   ]
  },
  {
   "cell_type": "code",
   "execution_count": 47,
   "id": "0efb69ba",
   "metadata": {},
   "outputs": [],
   "source": [
    "NUM_TESTS = 25"
   ]
  },
  {
   "cell_type": "code",
   "execution_count": 8,
   "id": "2b25b747",
   "metadata": {},
   "outputs": [],
   "source": [
    "def get_array(number_of_items):\n",
    "    array = []\n",
    "    a = 0\n",
    "    b = a + 10\n",
    "    for i in range(0,number_of_items):\n",
    "        array.append(random.randint(a,b))\n",
    "        a = b+1\n",
    "        b = a + 10\n",
    "    return array"
   ]
  },
  {
   "cell_type": "code",
   "execution_count": 16,
   "id": "0b23df94",
   "metadata": {},
   "outputs": [],
   "source": [
    "def get_diff_and_index(array):\n",
    "    lower_index = 0\n",
    "    upper_index = 0\n",
    "    while True:\n",
    "        lower_index = random.randint(0,len(array)-1)\n",
    "        upper_index = random.randint(0,len(array)-1)\n",
    "\n",
    "        if upper_index > lower_index:\n",
    "            break\n",
    "        elif upper_index < lower_index:\n",
    "            lower_index,upper_index = upper_index,lower_index\n",
    "            break\n",
    "\n",
    "    #print (\"upper & lower index\",lower_index,upper_index)\n",
    "    #print (array)\n",
    "    d = array[upper_index] - array[lower_index]\n",
    "\n",
    "    return d, lower_index, upper_index"
   ]
  },
  {
   "cell_type": "code",
   "execution_count": 17,
   "id": "23538a83",
   "metadata": {},
   "outputs": [],
   "source": [
    "def get_the_index(array,d):\n",
    "    #print (\"Distance\",d)\n",
    "    j = 1\n",
    "    counter = 1\n",
    "    found = False\n",
    "    end_loop = False\n",
    "    for i in range(0,len(array)-1):\n",
    "\n",
    "        counter += 1\n",
    "        if i == j:\n",
    "            j += 1\n",
    "        while True:\n",
    "            counter += 1\n",
    "            if array[j] - array[i] == d:\n",
    "                found = True\n",
    "                break\n",
    "            elif array[j] - array[i] < d:\n",
    "                j += 1\n",
    "                if j > len(array) - 1:\n",
    "                    end_loop = True\n",
    "                    break\n",
    "            elif array[j] - array[i] > d:\n",
    "                break\n",
    "        if end_loop:\n",
    "            break\n",
    "        if found:\n",
    "            break\n",
    "    \n",
    "    #print (\"Counter\", counter)\n",
    "    if found:\n",
    "        return (i,j,counter)\n",
    "    else:\n",
    "        return (0,0,counter)"
   ]
  },
  {
   "cell_type": "code",
   "execution_count": 152,
   "id": "bdc1d6c1",
   "metadata": {},
   "outputs": [],
   "source": [
    "results = []\n",
    "n = 10\n",
    "N = 1000\n",
    "while n < N:\n",
    "    num_of_tests = 0\n",
    "    counter_array = []\n",
    "    while num_of_tests < NUM_TESTS:\n",
    "        #print (num_of_tests)\n",
    "        array = get_array(n)\n",
    "        d, lower_index, upper_index = get_diff_and_index(array)\n",
    "        start=datetime.now()\n",
    "        i,j,counter = get_the_index(array,d)\n",
    "        end=datetime.now()\n",
    "        counter_array.append(counter)\n",
    "        #if i == lower_index and j == upper_index:\n",
    "        #    results.append({\"n\": n,\"result\": \"success\", \"counter\": counter, \"message\": \"\"})\n",
    "        #else:\n",
    "        #    results.append({\"n\": n,\"result\": \"failure\", \"counter\": counter, \"message\": f\"expected lower: {lower_index}, expected_upper: {upper_index}, actual lower: {i}, actual upper: {j}\"})\n",
    "        num_of_tests += 1\n",
    "        if num_of_tests >= NUM_TESTS:\n",
    "            results.append({\"array_length\": n,\"execution_time\":(end-start).seconds,\"90_counter\":  np.percentile(counter_array, 90),\"99_counter\":  np.percentile(counter_array, 99),\"75_counter\":  np.percentile(counter_array, 75)})\n",
    "    n += 1\n",
    "    #print (\"Value of n\",n)\n",
    "\n",
    "#print (results)"
   ]
  },
  {
   "cell_type": "code",
   "execution_count": 153,
   "id": "add8e213",
   "metadata": {},
   "outputs": [
    {
     "data": {
      "text/plain": [
       "1000"
      ]
     },
     "execution_count": 153,
     "metadata": {},
     "output_type": "execute_result"
    }
   ],
   "source": [
    "n"
   ]
  },
  {
   "cell_type": "code",
   "execution_count": 154,
   "id": "84d63067",
   "metadata": {},
   "outputs": [],
   "source": [
    "import pandas as pd\n",
    "import numpy as np\n",
    "import math"
   ]
  },
  {
   "cell_type": "code",
   "execution_count": 155,
   "id": "c1f6a4cc",
   "metadata": {},
   "outputs": [],
   "source": [
    "df = pd.DataFrame.from_dict(results)"
   ]
  },
  {
   "cell_type": "code",
   "execution_count": 156,
   "id": "6f85dd79",
   "metadata": {},
   "outputs": [
    {
     "data": {
      "text/html": [
       "<div>\n",
       "<style scoped>\n",
       "    .dataframe tbody tr th:only-of-type {\n",
       "        vertical-align: middle;\n",
       "    }\n",
       "\n",
       "    .dataframe tbody tr th {\n",
       "        vertical-align: top;\n",
       "    }\n",
       "\n",
       "    .dataframe thead th {\n",
       "        text-align: right;\n",
       "    }\n",
       "</style>\n",
       "<table border=\"1\" class=\"dataframe\">\n",
       "  <thead>\n",
       "    <tr style=\"text-align: right;\">\n",
       "      <th></th>\n",
       "      <th>array_length</th>\n",
       "      <th>execution_time</th>\n",
       "      <th>90_counter</th>\n",
       "      <th>99_counter</th>\n",
       "      <th>75_counter</th>\n",
       "    </tr>\n",
       "  </thead>\n",
       "  <tbody>\n",
       "    <tr>\n",
       "      <th>0</th>\n",
       "      <td>10</td>\n",
       "      <td>0</td>\n",
       "      <td>21.0</td>\n",
       "      <td>24.28</td>\n",
       "      <td>18.0</td>\n",
       "    </tr>\n",
       "    <tr>\n",
       "      <th>1</th>\n",
       "      <td>11</td>\n",
       "      <td>0</td>\n",
       "      <td>19.6</td>\n",
       "      <td>21.76</td>\n",
       "      <td>16.0</td>\n",
       "    </tr>\n",
       "    <tr>\n",
       "      <th>2</th>\n",
       "      <td>12</td>\n",
       "      <td>0</td>\n",
       "      <td>21.8</td>\n",
       "      <td>24.52</td>\n",
       "      <td>17.0</td>\n",
       "    </tr>\n",
       "    <tr>\n",
       "      <th>3</th>\n",
       "      <td>13</td>\n",
       "      <td>0</td>\n",
       "      <td>18.0</td>\n",
       "      <td>30.08</td>\n",
       "      <td>16.0</td>\n",
       "    </tr>\n",
       "    <tr>\n",
       "      <th>4</th>\n",
       "      <td>14</td>\n",
       "      <td>0</td>\n",
       "      <td>24.2</td>\n",
       "      <td>25.76</td>\n",
       "      <td>21.0</td>\n",
       "    </tr>\n",
       "  </tbody>\n",
       "</table>\n",
       "</div>"
      ],
      "text/plain": [
       "   array_length  execution_time  90_counter  99_counter  75_counter\n",
       "0            10               0        21.0       24.28        18.0\n",
       "1            11               0        19.6       21.76        16.0\n",
       "2            12               0        21.8       24.52        17.0\n",
       "3            13               0        18.0       30.08        16.0\n",
       "4            14               0        24.2       25.76        21.0"
      ]
     },
     "execution_count": 156,
     "metadata": {},
     "output_type": "execute_result"
    }
   ],
   "source": [
    "df.head()"
   ]
  },
  {
   "cell_type": "code",
   "execution_count": 157,
   "id": "24a38b4a",
   "metadata": {},
   "outputs": [],
   "source": [
    "def return_nlogn(row):\n",
    "    return row[\"array_length\"]*math.log(row[\"array_length\"],2)"
   ]
  },
  {
   "cell_type": "code",
   "execution_count": 158,
   "id": "ea0ddaba",
   "metadata": {},
   "outputs": [],
   "source": [
    "df[\"nlogn\"] = df.apply(lambda row: return_nlogn(row), axis=1)"
   ]
  },
  {
   "cell_type": "code",
   "execution_count": 159,
   "id": "02972384",
   "metadata": {},
   "outputs": [
    {
     "data": {
      "text/html": [
       "<div>\n",
       "<style scoped>\n",
       "    .dataframe tbody tr th:only-of-type {\n",
       "        vertical-align: middle;\n",
       "    }\n",
       "\n",
       "    .dataframe tbody tr th {\n",
       "        vertical-align: top;\n",
       "    }\n",
       "\n",
       "    .dataframe thead th {\n",
       "        text-align: right;\n",
       "    }\n",
       "</style>\n",
       "<table border=\"1\" class=\"dataframe\">\n",
       "  <thead>\n",
       "    <tr style=\"text-align: right;\">\n",
       "      <th></th>\n",
       "      <th>array_length</th>\n",
       "      <th>execution_time</th>\n",
       "      <th>90_counter</th>\n",
       "      <th>99_counter</th>\n",
       "      <th>75_counter</th>\n",
       "      <th>nlogn</th>\n",
       "    </tr>\n",
       "  </thead>\n",
       "  <tbody>\n",
       "    <tr>\n",
       "      <th>0</th>\n",
       "      <td>10</td>\n",
       "      <td>0</td>\n",
       "      <td>21.0</td>\n",
       "      <td>24.28</td>\n",
       "      <td>18.0</td>\n",
       "      <td>33.219281</td>\n",
       "    </tr>\n",
       "    <tr>\n",
       "      <th>1</th>\n",
       "      <td>11</td>\n",
       "      <td>0</td>\n",
       "      <td>19.6</td>\n",
       "      <td>21.76</td>\n",
       "      <td>16.0</td>\n",
       "      <td>38.053748</td>\n",
       "    </tr>\n",
       "    <tr>\n",
       "      <th>2</th>\n",
       "      <td>12</td>\n",
       "      <td>0</td>\n",
       "      <td>21.8</td>\n",
       "      <td>24.52</td>\n",
       "      <td>17.0</td>\n",
       "      <td>43.019550</td>\n",
       "    </tr>\n",
       "    <tr>\n",
       "      <th>3</th>\n",
       "      <td>13</td>\n",
       "      <td>0</td>\n",
       "      <td>18.0</td>\n",
       "      <td>30.08</td>\n",
       "      <td>16.0</td>\n",
       "      <td>48.105716</td>\n",
       "    </tr>\n",
       "    <tr>\n",
       "      <th>4</th>\n",
       "      <td>14</td>\n",
       "      <td>0</td>\n",
       "      <td>24.2</td>\n",
       "      <td>25.76</td>\n",
       "      <td>21.0</td>\n",
       "      <td>53.302969</td>\n",
       "    </tr>\n",
       "  </tbody>\n",
       "</table>\n",
       "</div>"
      ],
      "text/plain": [
       "   array_length  execution_time  90_counter  99_counter  75_counter      nlogn\n",
       "0            10               0        21.0       24.28        18.0  33.219281\n",
       "1            11               0        19.6       21.76        16.0  38.053748\n",
       "2            12               0        21.8       24.52        17.0  43.019550\n",
       "3            13               0        18.0       30.08        16.0  48.105716\n",
       "4            14               0        24.2       25.76        21.0  53.302969"
      ]
     },
     "execution_count": 159,
     "metadata": {},
     "output_type": "execute_result"
    }
   ],
   "source": [
    "df.head()"
   ]
  },
  {
   "cell_type": "code",
   "execution_count": 160,
   "id": "6560a392",
   "metadata": {},
   "outputs": [
    {
     "data": {
      "text/plain": [
       "<AxesSubplot:>"
      ]
     },
     "execution_count": 160,
     "metadata": {},
     "output_type": "execute_result"
    },
    {
     "data": {
      "image/png": "[encoded data removed]",
      "text/plain": [
       "<Figure size 432x288 with 1 Axes>"
      ]
     },
     "metadata": {
      "needs_background": "light"
     },
     "output_type": "display_data"
    }
   ],
   "source": [
    "df.plot.line()"
   ]
  },
  {
   "cell_type": "code",
   "execution_count": null,
   "id": "0dd2b430",
   "metadata": {},
   "outputs": [],
   "source": [
    "#Locally stable"
   ]
  },
  {
   "cell_type": "code",
   "execution_count": 111,
   "id": "33d7743c",
   "metadata": {},
   "outputs": [],
   "source": [
    "def is_stable(array,i,j,k):\n",
    "    global counter\n",
    "    counter += 1\n",
    "    if array[i] > array[j] and array[j] < array[k]:\n",
    "        return True\n",
    "    elif (array[i] > array[j] and array[j] > array[k]) or (array[i] < array[j] and array[j] > array[k]):\n",
    "        if k+1 >= len(array):\n",
    "            return False\n",
    "        elif array[k] > array[k+1]:\n",
    "            if k+2 >= len(array):\n",
    "                return False\n",
    "            else:\n",
    "                return is_stable(array,i+2,j+2,k+2)\n",
    "        else:\n",
    "            return True\n",
    "    elif array[i] < array[j] and array[j] <array[k]:\n",
    "        if k+2 >= len(array):\n",
    "            return False\n",
    "        else:\n",
    "            return is_stable(array,i+2,j+2,k+2)"
   ]
  },
  {
   "cell_type": "code",
   "execution_count": 112,
   "id": "d9cccac2",
   "metadata": {},
   "outputs": [],
   "source": [
    "counter = 0"
   ]
  },
  {
   "cell_type": "code",
   "execution_count": 113,
   "id": "fd900be5",
   "metadata": {},
   "outputs": [],
   "source": [
    "def get_unsorted_distinct_array(number_of_items):\n",
    "    max_value = number_of_items*10\n",
    "    min_value_index = random.randint(0,number_of_items-1)\n",
    "    array = []\n",
    "    prev_value = 2\n",
    "    while number_of_items > 0:\n",
    "        if min_value_index == number_of_items:\n",
    "            number = 1\n",
    "        else:\n",
    "            number = random.randint(prev_value+1,prev_value+30)\n",
    "            prev_value = number\n",
    "        if array.count(number) > 0:\n",
    "            continue\n",
    "        else:\n",
    "            array.append(number)\n",
    "            number_of_items = number_of_items -1\n",
    "    return array"
   ]
  },
  {
   "cell_type": "code",
   "execution_count": 123,
   "id": "624fda0c",
   "metadata": {},
   "outputs": [],
   "source": [
    "results = []\n",
    "number_of_items = 10\n",
    "N = 1000\n",
    "while number_of_items < N:\n",
    "    num_test = 0\n",
    "    counter_array = []\n",
    "    while num_test < NUM_TESTS:\n",
    "        counter = 0\n",
    "        array = get_unsorted_distinct_array(number_of_items=number_of_items)\n",
    "        #print (array)\n",
    "        i =0\n",
    "        j = 1\n",
    "        k = 2\n",
    "\n",
    "        result = is_stable(array,i,j,k)\n",
    "        counter_array.append(counter)\n",
    "        num_test += 1\n",
    "    results.append({\"array_length\": number_of_items,\"90_counter\":  np.percentile(counter_array, 90),\"99_counter\":  np.percentile(counter_array, 99),\"75_counter\":  np.percentile(counter_array, 75)})\n",
    "    number_of_items += 1"
   ]
  },
  {
   "cell_type": "code",
   "execution_count": 124,
   "id": "556afa21",
   "metadata": {},
   "outputs": [
    {
     "data": {
      "text/plain": [
       "1000"
      ]
     },
     "execution_count": 124,
     "metadata": {},
     "output_type": "execute_result"
    }
   ],
   "source": [
    "number_of_items"
   ]
  },
  {
   "cell_type": "code",
   "execution_count": 125,
   "id": "b51812ad",
   "metadata": {},
   "outputs": [],
   "source": [
    "def return_logn(row):\n",
    "    return math.log(row[\"array_length\"],2)"
   ]
  },
  {
   "cell_type": "code",
   "execution_count": 126,
   "id": "23721257",
   "metadata": {},
   "outputs": [],
   "source": [
    "df = pd.DataFrame.from_dict(results)"
   ]
  },
  {
   "cell_type": "code",
   "execution_count": 127,
   "id": "462e4558",
   "metadata": {},
   "outputs": [
    {
     "data": {
      "text/html": [
       "<div>\n",
       "<style scoped>\n",
       "    .dataframe tbody tr th:only-of-type {\n",
       "        vertical-align: middle;\n",
       "    }\n",
       "\n",
       "    .dataframe tbody tr th {\n",
       "        vertical-align: top;\n",
       "    }\n",
       "\n",
       "    .dataframe thead th {\n",
       "        text-align: right;\n",
       "    }\n",
       "</style>\n",
       "<table border=\"1\" class=\"dataframe\">\n",
       "  <thead>\n",
       "    <tr style=\"text-align: right;\">\n",
       "      <th></th>\n",
       "      <th>array_length</th>\n",
       "      <th>90_counter</th>\n",
       "      <th>99_counter</th>\n",
       "      <th>75_counter</th>\n",
       "    </tr>\n",
       "  </thead>\n",
       "  <tbody>\n",
       "    <tr>\n",
       "      <th>0</th>\n",
       "      <td>10</td>\n",
       "      <td>4.0</td>\n",
       "      <td>4.0</td>\n",
       "      <td>3.0</td>\n",
       "    </tr>\n",
       "    <tr>\n",
       "      <th>1</th>\n",
       "      <td>11</td>\n",
       "      <td>5.0</td>\n",
       "      <td>5.0</td>\n",
       "      <td>4.0</td>\n",
       "    </tr>\n",
       "    <tr>\n",
       "      <th>2</th>\n",
       "      <td>12</td>\n",
       "      <td>5.0</td>\n",
       "      <td>5.0</td>\n",
       "      <td>4.0</td>\n",
       "    </tr>\n",
       "    <tr>\n",
       "      <th>3</th>\n",
       "      <td>13</td>\n",
       "      <td>6.0</td>\n",
       "      <td>6.0</td>\n",
       "      <td>6.0</td>\n",
       "    </tr>\n",
       "    <tr>\n",
       "      <th>4</th>\n",
       "      <td>14</td>\n",
       "      <td>6.0</td>\n",
       "      <td>6.0</td>\n",
       "      <td>6.0</td>\n",
       "    </tr>\n",
       "  </tbody>\n",
       "</table>\n",
       "</div>"
      ],
      "text/plain": [
       "   array_length  90_counter  99_counter  75_counter\n",
       "0            10         4.0         4.0         3.0\n",
       "1            11         5.0         5.0         4.0\n",
       "2            12         5.0         5.0         4.0\n",
       "3            13         6.0         6.0         6.0\n",
       "4            14         6.0         6.0         6.0"
      ]
     },
     "execution_count": 127,
     "metadata": {},
     "output_type": "execute_result"
    }
   ],
   "source": [
    "df.head()"
   ]
  },
  {
   "cell_type": "code",
   "execution_count": 128,
   "id": "01570fb1",
   "metadata": {},
   "outputs": [],
   "source": [
    "df[\"logn\"] = df.apply(lambda row: return_logn(row), axis=1)"
   ]
  },
  {
   "cell_type": "code",
   "execution_count": 129,
   "id": "7d9dbbef",
   "metadata": {},
   "outputs": [
    {
     "data": {
      "text/html": [
       "<div>\n",
       "<style scoped>\n",
       "    .dataframe tbody tr th:only-of-type {\n",
       "        vertical-align: middle;\n",
       "    }\n",
       "\n",
       "    .dataframe tbody tr th {\n",
       "        vertical-align: top;\n",
       "    }\n",
       "\n",
       "    .dataframe thead th {\n",
       "        text-align: right;\n",
       "    }\n",
       "</style>\n",
       "<table border=\"1\" class=\"dataframe\">\n",
       "  <thead>\n",
       "    <tr style=\"text-align: right;\">\n",
       "      <th></th>\n",
       "      <th>array_length</th>\n",
       "      <th>90_counter</th>\n",
       "      <th>99_counter</th>\n",
       "      <th>75_counter</th>\n",
       "      <th>logn</th>\n",
       "    </tr>\n",
       "  </thead>\n",
       "  <tbody>\n",
       "    <tr>\n",
       "      <th>985</th>\n",
       "      <td>995</td>\n",
       "      <td>471.2</td>\n",
       "      <td>490.64</td>\n",
       "      <td>391.0</td>\n",
       "      <td>9.958553</td>\n",
       "    </tr>\n",
       "    <tr>\n",
       "      <th>986</th>\n",
       "      <td>996</td>\n",
       "      <td>462.4</td>\n",
       "      <td>483.96</td>\n",
       "      <td>407.0</td>\n",
       "      <td>9.960002</td>\n",
       "    </tr>\n",
       "    <tr>\n",
       "      <th>987</th>\n",
       "      <td>997</td>\n",
       "      <td>464.0</td>\n",
       "      <td>488.60</td>\n",
       "      <td>390.0</td>\n",
       "      <td>9.961450</td>\n",
       "    </tr>\n",
       "    <tr>\n",
       "      <th>988</th>\n",
       "      <td>998</td>\n",
       "      <td>454.2</td>\n",
       "      <td>489.84</td>\n",
       "      <td>376.0</td>\n",
       "      <td>9.962896</td>\n",
       "    </tr>\n",
       "    <tr>\n",
       "      <th>989</th>\n",
       "      <td>999</td>\n",
       "      <td>460.6</td>\n",
       "      <td>490.16</td>\n",
       "      <td>391.0</td>\n",
       "      <td>9.964341</td>\n",
       "    </tr>\n",
       "  </tbody>\n",
       "</table>\n",
       "</div>"
      ],
      "text/plain": [
       "     array_length  90_counter  99_counter  75_counter      logn\n",
       "985           995       471.2      490.64       391.0  9.958553\n",
       "986           996       462.4      483.96       407.0  9.960002\n",
       "987           997       464.0      488.60       390.0  9.961450\n",
       "988           998       454.2      489.84       376.0  9.962896\n",
       "989           999       460.6      490.16       391.0  9.964341"
      ]
     },
     "execution_count": 129,
     "metadata": {},
     "output_type": "execute_result"
    }
   ],
   "source": [
    "df.tail()"
   ]
  },
  {
   "cell_type": "code",
   "execution_count": 130,
   "id": "9af85090",
   "metadata": {},
   "outputs": [
    {
     "data": {
      "text/plain": [
       "<AxesSubplot:>"
      ]
     },
     "execution_count": 130,
     "metadata": {},
     "output_type": "execute_result"
    },
    {
     "data": {
      "image/png": "[encoded data removed]",
      "text/plain": [
       "<Figure size 432x288 with 1 Axes>"
      ]
     },
     "metadata": {
      "needs_background": "light"
     },
     "output_type": "display_data"
    }
   ],
   "source": [
    "df.plot.line()"
   ]
  },
  {
   "cell_type": "code",
   "execution_count": 110,
   "id": "528c059d",
   "metadata": {},
   "outputs": [
    {
     "name": "stdout",
     "output_type": "stream",
     "text": [
      "[20, 39, 44, 45, 70, 77, 103, 120, 131, 144, 1]\n"
     ]
    },
    {
     "ename": "IndexError",
     "evalue": "list index out of range",
     "output_type": "error",
     "traceback": [
      "\u001b[0;31m---------------------------------------------------------------------------\u001b[0m",
      "\u001b[0;31mIndexError\u001b[0m                                Traceback (most recent call last)",
      "\u001b[0;32m/tmp/ipykernel_655284/2121687124.py\u001b[0m in \u001b[0;36m<module>\u001b[0;34m\u001b[0m\n\u001b[1;32m      3\u001b[0m \u001b[0marray\u001b[0m \u001b[0;34m=\u001b[0m \u001b[0;34m[\u001b[0m\u001b[0;36m20\u001b[0m\u001b[0;34m,\u001b[0m \u001b[0;36m39\u001b[0m\u001b[0;34m,\u001b[0m \u001b[0;36m44\u001b[0m\u001b[0;34m,\u001b[0m \u001b[0;36m45\u001b[0m\u001b[0;34m,\u001b[0m \u001b[0;36m70\u001b[0m\u001b[0;34m,\u001b[0m \u001b[0;36m77\u001b[0m\u001b[0;34m,\u001b[0m \u001b[0;36m103\u001b[0m\u001b[0;34m,\u001b[0m \u001b[0;36m120\u001b[0m\u001b[0;34m,\u001b[0m \u001b[0;36m131\u001b[0m\u001b[0;34m,\u001b[0m \u001b[0;36m144\u001b[0m\u001b[0;34m,\u001b[0m \u001b[0;36m1\u001b[0m\u001b[0;34m]\u001b[0m\u001b[0;34m\u001b[0m\u001b[0;34m\u001b[0m\u001b[0m\n\u001b[1;32m      4\u001b[0m \u001b[0mprint\u001b[0m \u001b[0;34m(\u001b[0m\u001b[0marray\u001b[0m\u001b[0;34m)\u001b[0m\u001b[0;34m\u001b[0m\u001b[0;34m\u001b[0m\u001b[0m\n\u001b[0;32m----> 5\u001b[0;31m \u001b[0mprint\u001b[0m \u001b[0;34m(\u001b[0m\u001b[0mis_stable\u001b[0m\u001b[0;34m(\u001b[0m\u001b[0marray\u001b[0m\u001b[0;34m,\u001b[0m\u001b[0;36m0\u001b[0m\u001b[0;34m,\u001b[0m\u001b[0;36m1\u001b[0m\u001b[0;34m,\u001b[0m\u001b[0;36m2\u001b[0m\u001b[0;34m)\u001b[0m\u001b[0;34m)\u001b[0m\u001b[0;34m\u001b[0m\u001b[0;34m\u001b[0m\u001b[0m\n\u001b[0m\u001b[1;32m      6\u001b[0m \u001b[0mprint\u001b[0m \u001b[0;34m(\u001b[0m\u001b[0mcounter\u001b[0m\u001b[0;34m)\u001b[0m\u001b[0;34m\u001b[0m\u001b[0;34m\u001b[0m\u001b[0m\n",
      "\u001b[0;32m/tmp/ipykernel_655284/4162222046.py\u001b[0m in \u001b[0;36mis_stable\u001b[0;34m(array, i, j, k)\u001b[0m\n\u001b[1;32m     16\u001b[0m             \u001b[0;32mreturn\u001b[0m \u001b[0;32mFalse\u001b[0m\u001b[0;34m\u001b[0m\u001b[0;34m\u001b[0m\u001b[0m\n\u001b[1;32m     17\u001b[0m         \u001b[0;32melse\u001b[0m\u001b[0;34m:\u001b[0m\u001b[0;34m\u001b[0m\u001b[0;34m\u001b[0m\u001b[0m\n\u001b[0;32m---> 18\u001b[0;31m             \u001b[0;32mreturn\u001b[0m \u001b[0mis_stable\u001b[0m\u001b[0;34m(\u001b[0m\u001b[0marray\u001b[0m\u001b[0;34m,\u001b[0m\u001b[0mi\u001b[0m\u001b[0;34m+\u001b[0m\u001b[0;36m2\u001b[0m\u001b[0;34m,\u001b[0m\u001b[0mj\u001b[0m\u001b[0;34m+\u001b[0m\u001b[0;36m2\u001b[0m\u001b[0;34m,\u001b[0m\u001b[0mk\u001b[0m\u001b[0;34m+\u001b[0m\u001b[0;36m2\u001b[0m\u001b[0;34m)\u001b[0m\u001b[0;34m\u001b[0m\u001b[0;34m\u001b[0m\u001b[0m\n\u001b[0m",
      "\u001b[0;32m/tmp/ipykernel_655284/4162222046.py\u001b[0m in \u001b[0;36mis_stable\u001b[0;34m(array, i, j, k)\u001b[0m\n\u001b[1;32m     16\u001b[0m             \u001b[0;32mreturn\u001b[0m \u001b[0;32mFalse\u001b[0m\u001b[0;34m\u001b[0m\u001b[0;34m\u001b[0m\u001b[0m\n\u001b[1;32m     17\u001b[0m         \u001b[0;32melse\u001b[0m\u001b[0;34m:\u001b[0m\u001b[0;34m\u001b[0m\u001b[0;34m\u001b[0m\u001b[0m\n\u001b[0;32m---> 18\u001b[0;31m             \u001b[0;32mreturn\u001b[0m \u001b[0mis_stable\u001b[0m\u001b[0;34m(\u001b[0m\u001b[0marray\u001b[0m\u001b[0;34m,\u001b[0m\u001b[0mi\u001b[0m\u001b[0;34m+\u001b[0m\u001b[0;36m2\u001b[0m\u001b[0;34m,\u001b[0m\u001b[0mj\u001b[0m\u001b[0;34m+\u001b[0m\u001b[0;36m2\u001b[0m\u001b[0;34m,\u001b[0m\u001b[0mk\u001b[0m\u001b[0;34m+\u001b[0m\u001b[0;36m2\u001b[0m\u001b[0;34m)\u001b[0m\u001b[0;34m\u001b[0m\u001b[0;34m\u001b[0m\u001b[0m\n\u001b[0m",
      "\u001b[0;32m/tmp/ipykernel_655284/4162222046.py\u001b[0m in \u001b[0;36mis_stable\u001b[0;34m(array, i, j, k)\u001b[0m\n\u001b[1;32m     16\u001b[0m             \u001b[0;32mreturn\u001b[0m \u001b[0;32mFalse\u001b[0m\u001b[0;34m\u001b[0m\u001b[0;34m\u001b[0m\u001b[0m\n\u001b[1;32m     17\u001b[0m         \u001b[0;32melse\u001b[0m\u001b[0;34m:\u001b[0m\u001b[0;34m\u001b[0m\u001b[0;34m\u001b[0m\u001b[0m\n\u001b[0;32m---> 18\u001b[0;31m             \u001b[0;32mreturn\u001b[0m \u001b[0mis_stable\u001b[0m\u001b[0;34m(\u001b[0m\u001b[0marray\u001b[0m\u001b[0;34m,\u001b[0m\u001b[0mi\u001b[0m\u001b[0;34m+\u001b[0m\u001b[0;36m2\u001b[0m\u001b[0;34m,\u001b[0m\u001b[0mj\u001b[0m\u001b[0;34m+\u001b[0m\u001b[0;36m2\u001b[0m\u001b[0;34m,\u001b[0m\u001b[0mk\u001b[0m\u001b[0;34m+\u001b[0m\u001b[0;36m2\u001b[0m\u001b[0;34m)\u001b[0m\u001b[0;34m\u001b[0m\u001b[0;34m\u001b[0m\u001b[0m\n\u001b[0m",
      "\u001b[0;32m/tmp/ipykernel_655284/4162222046.py\u001b[0m in \u001b[0;36mis_stable\u001b[0;34m(array, i, j, k)\u001b[0m\n\u001b[1;32m     16\u001b[0m             \u001b[0;32mreturn\u001b[0m \u001b[0;32mFalse\u001b[0m\u001b[0;34m\u001b[0m\u001b[0;34m\u001b[0m\u001b[0m\n\u001b[1;32m     17\u001b[0m         \u001b[0;32melse\u001b[0m\u001b[0;34m:\u001b[0m\u001b[0;34m\u001b[0m\u001b[0;34m\u001b[0m\u001b[0m\n\u001b[0;32m---> 18\u001b[0;31m             \u001b[0;32mreturn\u001b[0m \u001b[0mis_stable\u001b[0m\u001b[0;34m(\u001b[0m\u001b[0marray\u001b[0m\u001b[0;34m,\u001b[0m\u001b[0mi\u001b[0m\u001b[0;34m+\u001b[0m\u001b[0;36m2\u001b[0m\u001b[0;34m,\u001b[0m\u001b[0mj\u001b[0m\u001b[0;34m+\u001b[0m\u001b[0;36m2\u001b[0m\u001b[0;34m,\u001b[0m\u001b[0mk\u001b[0m\u001b[0;34m+\u001b[0m\u001b[0;36m2\u001b[0m\u001b[0;34m)\u001b[0m\u001b[0;34m\u001b[0m\u001b[0;34m\u001b[0m\u001b[0m\n\u001b[0m",
      "\u001b[0;32m/tmp/ipykernel_655284/4162222046.py\u001b[0m in \u001b[0;36mis_stable\u001b[0;34m(array, i, j, k)\u001b[0m\n\u001b[1;32m      5\u001b[0m         \u001b[0;32mreturn\u001b[0m \u001b[0;32mTrue\u001b[0m\u001b[0;34m\u001b[0m\u001b[0;34m\u001b[0m\u001b[0m\n\u001b[1;32m      6\u001b[0m     \u001b[0;32melif\u001b[0m \u001b[0;34m(\u001b[0m\u001b[0marray\u001b[0m\u001b[0;34m[\u001b[0m\u001b[0mi\u001b[0m\u001b[0;34m]\u001b[0m \u001b[0;34m>\u001b[0m \u001b[0marray\u001b[0m\u001b[0;34m[\u001b[0m\u001b[0mj\u001b[0m\u001b[0;34m]\u001b[0m \u001b[0;32mand\u001b[0m \u001b[0marray\u001b[0m\u001b[0;34m[\u001b[0m\u001b[0mj\u001b[0m\u001b[0;34m]\u001b[0m \u001b[0;34m>\u001b[0m \u001b[0marray\u001b[0m\u001b[0;34m[\u001b[0m\u001b[0mk\u001b[0m\u001b[0;34m]\u001b[0m\u001b[0;34m)\u001b[0m \u001b[0;32mor\u001b[0m \u001b[0;34m(\u001b[0m\u001b[0marray\u001b[0m\u001b[0;34m[\u001b[0m\u001b[0mi\u001b[0m\u001b[0;34m]\u001b[0m \u001b[0;34m<\u001b[0m \u001b[0marray\u001b[0m\u001b[0;34m[\u001b[0m\u001b[0mj\u001b[0m\u001b[0;34m]\u001b[0m \u001b[0;32mand\u001b[0m \u001b[0marray\u001b[0m\u001b[0;34m[\u001b[0m\u001b[0mj\u001b[0m\u001b[0;34m]\u001b[0m \u001b[0;34m>\u001b[0m \u001b[0marray\u001b[0m\u001b[0;34m[\u001b[0m\u001b[0mk\u001b[0m\u001b[0;34m]\u001b[0m\u001b[0;34m)\u001b[0m\u001b[0;34m:\u001b[0m\u001b[0;34m\u001b[0m\u001b[0;34m\u001b[0m\u001b[0m\n\u001b[0;32m----> 7\u001b[0;31m         \u001b[0;32mif\u001b[0m \u001b[0marray\u001b[0m\u001b[0;34m[\u001b[0m\u001b[0mk\u001b[0m\u001b[0;34m]\u001b[0m \u001b[0;34m>\u001b[0m \u001b[0marray\u001b[0m\u001b[0;34m[\u001b[0m\u001b[0mk\u001b[0m\u001b[0;34m+\u001b[0m\u001b[0;36m1\u001b[0m\u001b[0;34m]\u001b[0m\u001b[0;34m:\u001b[0m\u001b[0;34m\u001b[0m\u001b[0;34m\u001b[0m\u001b[0m\n\u001b[0m\u001b[1;32m      8\u001b[0m             \u001b[0;32mif\u001b[0m \u001b[0mk\u001b[0m\u001b[0;34m+\u001b[0m\u001b[0;36m2\u001b[0m \u001b[0;34m>=\u001b[0m \u001b[0mlen\u001b[0m\u001b[0;34m(\u001b[0m\u001b[0marray\u001b[0m\u001b[0;34m)\u001b[0m\u001b[0;34m:\u001b[0m\u001b[0;34m\u001b[0m\u001b[0;34m\u001b[0m\u001b[0m\n\u001b[1;32m      9\u001b[0m                 \u001b[0;32mreturn\u001b[0m \u001b[0;32mFalse\u001b[0m\u001b[0;34m\u001b[0m\u001b[0;34m\u001b[0m\u001b[0m\n",
      "\u001b[0;31mIndexError\u001b[0m: list index out of range"
     ]
    }
   ],
   "source": [
    "\n",
    "counter = 1\n",
    "array = get_unsorted_distinct_array(number_of_items=11)\n",
    "array = [20, 39, 44, 45, 70, 77, 103, 120, 131, 144, 1]\n",
    "print (array)\n",
    "print (is_stable(array,0,1,2))\n",
    "print (counter)"
   ]
  },
  {
   "cell_type": "code",
   "execution_count": 139,
   "id": "3ab2808f",
   "metadata": {},
   "outputs": [],
   "source": [
    "def is_stable2(array):\n",
    "    global counter\n",
    "    counter += 1\n",
    "    l = len(array)\n",
    "    mid = l // 2\n",
    "    arr1 = array[0:mid]\n",
    "    arr2 = array[mid:]\n",
    "\n",
    "    if arr1[-1] < arr1[-2] and arr1[-1] < arr2[0]:\n",
    "        return True\n",
    "    elif arr2[0] < arr2[1] and arr2[0] < arr1[-1]:\n",
    "        return True\n",
    "\n",
    "    if len(arr1) == 3:\n",
    "        if arr1[1] < arr1[0] and arr1[1] < arr1[2]:\n",
    "            return True\n",
    "    if len(arr2) == 3:\n",
    "        if arr2[1] < arr2[0] and arr2[1] < arr2[2]:\n",
    "            return True\n",
    "\n",
    "    if len(arr1) <= 3:\n",
    "        return False\n",
    "    \n",
    "    if  len(arr2) <= 3:\n",
    "        return False\n",
    "\n",
    "    arr1_result = is_stable2(arr1)\n",
    "    if arr1_result:\n",
    "        return True\n",
    "    else:\n",
    "        return is_stable2(arr2)"
   ]
  },
  {
   "cell_type": "code",
   "execution_count": 162,
   "id": "25a7eba4",
   "metadata": {},
   "outputs": [],
   "source": [
    "from datetime import datetime\n",
    "results = []\n",
    "number_of_items = 10\n",
    "N = 1000\n",
    "while number_of_items < N:\n",
    "    num_test = 0\n",
    "    counter_array = []\n",
    "    while num_test < NUM_TESTS:\n",
    "        counter = 0\n",
    "        array = get_unsorted_distinct_array(number_of_items=number_of_items)\n",
    "        #print (array)\n",
    "        start = datetime.now()\n",
    "        result = is_stable2(array)\n",
    "        end = datetime.now()\n",
    "        counter_array.append(counter)\n",
    "        num_test += 1\n",
    "    results.append({\"array_length\": number_of_items,\"execution_time\": (end-start).microseconds})\n",
    "    number_of_items += 1"
   ]
  },
  {
   "cell_type": "code",
   "execution_count": 148,
   "id": "0f7b6606",
   "metadata": {},
   "outputs": [],
   "source": [
    "df = pd.DataFrame.from_dict(results)"
   ]
  },
  {
   "cell_type": "code",
   "execution_count": 149,
   "id": "0994024b",
   "metadata": {},
   "outputs": [
    {
     "data": {
      "text/html": [
       "<div>\n",
       "<style scoped>\n",
       "    .dataframe tbody tr th:only-of-type {\n",
       "        vertical-align: middle;\n",
       "    }\n",
       "\n",
       "    .dataframe tbody tr th {\n",
       "        vertical-align: top;\n",
       "    }\n",
       "\n",
       "    .dataframe thead th {\n",
       "        text-align: right;\n",
       "    }\n",
       "</style>\n",
       "<table border=\"1\" class=\"dataframe\">\n",
       "  <thead>\n",
       "    <tr style=\"text-align: right;\">\n",
       "      <th></th>\n",
       "      <th>array_length</th>\n",
       "      <th>execution_time</th>\n",
       "    </tr>\n",
       "  </thead>\n",
       "  <tbody>\n",
       "    <tr>\n",
       "      <th>0</th>\n",
       "      <td>10</td>\n",
       "      <td>0</td>\n",
       "    </tr>\n",
       "    <tr>\n",
       "      <th>1</th>\n",
       "      <td>11</td>\n",
       "      <td>0</td>\n",
       "    </tr>\n",
       "    <tr>\n",
       "      <th>2</th>\n",
       "      <td>12</td>\n",
       "      <td>0</td>\n",
       "    </tr>\n",
       "    <tr>\n",
       "      <th>3</th>\n",
       "      <td>13</td>\n",
       "      <td>0</td>\n",
       "    </tr>\n",
       "    <tr>\n",
       "      <th>4</th>\n",
       "      <td>14</td>\n",
       "      <td>0</td>\n",
       "    </tr>\n",
       "  </tbody>\n",
       "</table>\n",
       "</div>"
      ],
      "text/plain": [
       "   array_length  execution_time\n",
       "0            10               0\n",
       "1            11               0\n",
       "2            12               0\n",
       "3            13               0\n",
       "4            14               0"
      ]
     },
     "execution_count": 149,
     "metadata": {},
     "output_type": "execute_result"
    }
   ],
   "source": [
    "df.head()"
   ]
  },
  {
   "cell_type": "code",
   "execution_count": 150,
   "id": "148f0660",
   "metadata": {},
   "outputs": [],
   "source": [
    "df[\"logn\"] = df.apply(lambda row: return_logn(row), axis=1)"
   ]
  },
  {
   "cell_type": "code",
   "execution_count": 151,
   "id": "1fa7f847",
   "metadata": {},
   "outputs": [
    {
     "data": {
      "text/plain": [
       "<AxesSubplot:>"
      ]
     },
     "execution_count": 151,
     "metadata": {},
     "output_type": "execute_result"
    },
    {
     "data": {
      "image/png": "[encoded data removed]",
      "text/plain": [
       "<Figure size 432x288 with 1 Axes>"
      ]
     },
     "metadata": {
      "needs_background": "light"
     },
     "output_type": "display_data"
    }
   ],
   "source": [
    "df.plot.line()"
   ]
  },
  {
   "cell_type": "code",
   "execution_count": 146,
   "id": "22942e10",
   "metadata": {},
   "outputs": [
    {
     "data": {
      "text/html": [
       "<div>\n",
       "<style scoped>\n",
       "    .dataframe tbody tr th:only-of-type {\n",
       "        vertical-align: middle;\n",
       "    }\n",
       "\n",
       "    .dataframe tbody tr th {\n",
       "        vertical-align: top;\n",
       "    }\n",
       "\n",
       "    .dataframe thead th {\n",
       "        text-align: right;\n",
       "    }\n",
       "</style>\n",
       "<table border=\"1\" class=\"dataframe\">\n",
       "  <thead>\n",
       "    <tr style=\"text-align: right;\">\n",
       "      <th></th>\n",
       "      <th>array_length</th>\n",
       "      <th>90_counter</th>\n",
       "      <th>99_counter</th>\n",
       "      <th>75_counter</th>\n",
       "      <th>logn</th>\n",
       "    </tr>\n",
       "  </thead>\n",
       "  <tbody>\n",
       "    <tr>\n",
       "      <th>0</th>\n",
       "      <td>10</td>\n",
       "      <td>3.0</td>\n",
       "      <td>3.00</td>\n",
       "      <td>3.0</td>\n",
       "      <td>3.321928</td>\n",
       "    </tr>\n",
       "    <tr>\n",
       "      <th>1</th>\n",
       "      <td>11</td>\n",
       "      <td>3.0</td>\n",
       "      <td>3.00</td>\n",
       "      <td>3.0</td>\n",
       "      <td>3.459432</td>\n",
       "    </tr>\n",
       "    <tr>\n",
       "      <th>2</th>\n",
       "      <td>12</td>\n",
       "      <td>3.0</td>\n",
       "      <td>3.00</td>\n",
       "      <td>3.0</td>\n",
       "      <td>3.584963</td>\n",
       "    </tr>\n",
       "    <tr>\n",
       "      <th>3</th>\n",
       "      <td>13</td>\n",
       "      <td>3.0</td>\n",
       "      <td>3.00</td>\n",
       "      <td>3.0</td>\n",
       "      <td>3.700440</td>\n",
       "    </tr>\n",
       "    <tr>\n",
       "      <th>4</th>\n",
       "      <td>14</td>\n",
       "      <td>3.0</td>\n",
       "      <td>3.00</td>\n",
       "      <td>3.0</td>\n",
       "      <td>3.807355</td>\n",
       "    </tr>\n",
       "    <tr>\n",
       "      <th>...</th>\n",
       "      <td>...</td>\n",
       "      <td>...</td>\n",
       "      <td>...</td>\n",
       "      <td>...</td>\n",
       "      <td>...</td>\n",
       "    </tr>\n",
       "    <tr>\n",
       "      <th>985</th>\n",
       "      <td>995</td>\n",
       "      <td>415.0</td>\n",
       "      <td>448.68</td>\n",
       "      <td>352.0</td>\n",
       "      <td>9.958553</td>\n",
       "    </tr>\n",
       "    <tr>\n",
       "      <th>986</th>\n",
       "      <td>996</td>\n",
       "      <td>443.6</td>\n",
       "      <td>455.00</td>\n",
       "      <td>424.0</td>\n",
       "      <td>9.960002</td>\n",
       "    </tr>\n",
       "    <tr>\n",
       "      <th>987</th>\n",
       "      <td>997</td>\n",
       "      <td>403.2</td>\n",
       "      <td>451.72</td>\n",
       "      <td>325.0</td>\n",
       "      <td>9.961450</td>\n",
       "    </tr>\n",
       "    <tr>\n",
       "      <th>988</th>\n",
       "      <td>998</td>\n",
       "      <td>459.0</td>\n",
       "      <td>459.00</td>\n",
       "      <td>391.0</td>\n",
       "      <td>9.962896</td>\n",
       "    </tr>\n",
       "    <tr>\n",
       "      <th>989</th>\n",
       "      <td>999</td>\n",
       "      <td>457.8</td>\n",
       "      <td>461.00</td>\n",
       "      <td>431.0</td>\n",
       "      <td>9.964341</td>\n",
       "    </tr>\n",
       "  </tbody>\n",
       "</table>\n",
       "<p>990 rows × 5 columns</p>\n",
       "</div>"
      ],
      "text/plain": [
       "     array_length  90_counter  99_counter  75_counter      logn\n",
       "0              10         3.0        3.00         3.0  3.321928\n",
       "1              11         3.0        3.00         3.0  3.459432\n",
       "2              12         3.0        3.00         3.0  3.584963\n",
       "3              13         3.0        3.00         3.0  3.700440\n",
       "4              14         3.0        3.00         3.0  3.807355\n",
       "..            ...         ...         ...         ...       ...\n",
       "985           995       415.0      448.68       352.0  9.958553\n",
       "986           996       443.6      455.00       424.0  9.960002\n",
       "987           997       403.2      451.72       325.0  9.961450\n",
       "988           998       459.0      459.00       391.0  9.962896\n",
       "989           999       457.8      461.00       431.0  9.964341\n",
       "\n",
       "[990 rows x 5 columns]"
      ]
     },
     "execution_count": 146,
     "metadata": {},
     "output_type": "execute_result"
    }
   ],
   "source": [
    "df"
   ]
  },
  {
   "cell_type": "code",
   "execution_count": 161,
   "id": "31c65fc0",
   "metadata": {},
   "outputs": [
    {
     "data": {
      "text/html": [
       "<div>\n",
       "<style scoped>\n",
       "    .dataframe tbody tr th:only-of-type {\n",
       "        vertical-align: middle;\n",
       "    }\n",
       "\n",
       "    .dataframe tbody tr th {\n",
       "        vertical-align: top;\n",
       "    }\n",
       "\n",
       "    .dataframe thead th {\n",
       "        text-align: right;\n",
       "    }\n",
       "</style>\n",
       "<table border=\"1\" class=\"dataframe\">\n",
       "  <thead>\n",
       "    <tr style=\"text-align: right;\">\n",
       "      <th></th>\n",
       "      <th>array_length</th>\n",
       "      <th>execution_time</th>\n",
       "      <th>90_counter</th>\n",
       "      <th>99_counter</th>\n",
       "      <th>75_counter</th>\n",
       "      <th>nlogn</th>\n",
       "    </tr>\n",
       "  </thead>\n",
       "  <tbody>\n",
       "    <tr>\n",
       "      <th>0</th>\n",
       "      <td>10</td>\n",
       "      <td>0</td>\n",
       "      <td>21.0</td>\n",
       "      <td>24.28</td>\n",
       "      <td>18.0</td>\n",
       "      <td>33.219281</td>\n",
       "    </tr>\n",
       "    <tr>\n",
       "      <th>1</th>\n",
       "      <td>11</td>\n",
       "      <td>0</td>\n",
       "      <td>19.6</td>\n",
       "      <td>21.76</td>\n",
       "      <td>16.0</td>\n",
       "      <td>38.053748</td>\n",
       "    </tr>\n",
       "    <tr>\n",
       "      <th>2</th>\n",
       "      <td>12</td>\n",
       "      <td>0</td>\n",
       "      <td>21.8</td>\n",
       "      <td>24.52</td>\n",
       "      <td>17.0</td>\n",
       "      <td>43.019550</td>\n",
       "    </tr>\n",
       "    <tr>\n",
       "      <th>3</th>\n",
       "      <td>13</td>\n",
       "      <td>0</td>\n",
       "      <td>18.0</td>\n",
       "      <td>30.08</td>\n",
       "      <td>16.0</td>\n",
       "      <td>48.105716</td>\n",
       "    </tr>\n",
       "    <tr>\n",
       "      <th>4</th>\n",
       "      <td>14</td>\n",
       "      <td>0</td>\n",
       "      <td>24.2</td>\n",
       "      <td>25.76</td>\n",
       "      <td>21.0</td>\n",
       "      <td>53.302969</td>\n",
       "    </tr>\n",
       "    <tr>\n",
       "      <th>...</th>\n",
       "      <td>...</td>\n",
       "      <td>...</td>\n",
       "      <td>...</td>\n",
       "      <td>...</td>\n",
       "      <td>...</td>\n",
       "      <td>...</td>\n",
       "    </tr>\n",
       "    <tr>\n",
       "      <th>985</th>\n",
       "      <td>995</td>\n",
       "      <td>0</td>\n",
       "      <td>719.4</td>\n",
       "      <td>842.36</td>\n",
       "      <td>548.0</td>\n",
       "      <td>9908.759952</td>\n",
       "    </tr>\n",
       "    <tr>\n",
       "      <th>986</th>\n",
       "      <td>996</td>\n",
       "      <td>0</td>\n",
       "      <td>789.4</td>\n",
       "      <td>850.20</td>\n",
       "      <td>607.0</td>\n",
       "      <td>9920.161924</td>\n",
       "    </tr>\n",
       "    <tr>\n",
       "      <th>987</th>\n",
       "      <td>997</td>\n",
       "      <td>0</td>\n",
       "      <td>585.8</td>\n",
       "      <td>719.64</td>\n",
       "      <td>396.0</td>\n",
       "      <td>9931.565345</td>\n",
       "    </tr>\n",
       "    <tr>\n",
       "      <th>988</th>\n",
       "      <td>998</td>\n",
       "      <td>0</td>\n",
       "      <td>604.8</td>\n",
       "      <td>881.52</td>\n",
       "      <td>486.0</td>\n",
       "      <td>9942.970213</td>\n",
       "    </tr>\n",
       "    <tr>\n",
       "      <th>989</th>\n",
       "      <td>999</td>\n",
       "      <td>0</td>\n",
       "      <td>723.2</td>\n",
       "      <td>869.00</td>\n",
       "      <td>502.0</td>\n",
       "      <td>9954.376527</td>\n",
       "    </tr>\n",
       "  </tbody>\n",
       "</table>\n",
       "<p>990 rows × 6 columns</p>\n",
       "</div>"
      ],
      "text/plain": [
       "     array_length  execution_time  90_counter  99_counter  75_counter  \\\n",
       "0              10               0        21.0       24.28        18.0   \n",
       "1              11               0        19.6       21.76        16.0   \n",
       "2              12               0        21.8       24.52        17.0   \n",
       "3              13               0        18.0       30.08        16.0   \n",
       "4              14               0        24.2       25.76        21.0   \n",
       "..            ...             ...         ...         ...         ...   \n",
       "985           995               0       719.4      842.36       548.0   \n",
       "986           996               0       789.4      850.20       607.0   \n",
       "987           997               0       585.8      719.64       396.0   \n",
       "988           998               0       604.8      881.52       486.0   \n",
       "989           999               0       723.2      869.00       502.0   \n",
       "\n",
       "           nlogn  \n",
       "0      33.219281  \n",
       "1      38.053748  \n",
       "2      43.019550  \n",
       "3      48.105716  \n",
       "4      53.302969  \n",
       "..           ...  \n",
       "985  9908.759952  \n",
       "986  9920.161924  \n",
       "987  9931.565345  \n",
       "988  9942.970213  \n",
       "989  9954.376527  \n",
       "\n",
       "[990 rows x 6 columns]"
      ]
     },
     "execution_count": 161,
     "metadata": {},
     "output_type": "execute_result"
    }
   ],
   "source": [
    "df"
   ]
  },
  {
   "cell_type": "code",
   "execution_count": null,
   "id": "445e93fd",
   "metadata": {},
   "outputs": [],
   "source": []
  }
 ],
 "metadata": {
  "kernelspec": {
   "display_name": "Python 3 (ipykernel)",
   "language": "python",
   "name": "python3"
  },
  "language_info": {
   "codemirror_mode": {
    "name": "ipython",
    "version": 3
   },
   "file_extension": ".py",
   "mimetype": "text/x-python",
   "name": "python",
   "nbconvert_exporter": "python",
   "pygments_lexer": "ipython3",
   "version": "3.9.7"
  }
 },
 "nbformat": 4,
 "nbformat_minor": 5
}
